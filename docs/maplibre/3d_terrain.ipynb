{
 "cells": [
  {
   "cell_type": "markdown",
   "metadata": {},
   "source": [
    "[![image](https://jupyterlite.rtfd.io/en/latest/_static/badge.svg)](https://demo.leafmap.org/lab/index.html?path=maplibre/3d_terrain.ipynb)\n",
    "[![image](https://colab.research.google.com/assets/colab-badge.svg)](https://colab.research.google.com/github/opengeos/leafmap/blob/master/docs/maplibre/3d_terrain.ipynb)\n",
    "[![image](https://mybinder.org/badge_logo.svg)](https://mybinder.org/v2/gh/opengeos/leafmap/HEAD)\n",
    "\n",
    "**3D Terrain**\n",
    "\n",
    "This source code of this example is adapted from the MapLibre GL JS example - [3D Terrain](https://maplibre.org/maplibre-gl-js/docs/examples/3d-terrain).\n",
    "\n",
    "Uncomment the following line to install [leafmap](https://leafmap.org) if needed."
   ]
  },
  {
   "cell_type": "code",
   "execution_count": null,
   "metadata": {},
   "outputs": [],
   "source": [
    "# %pip install \"leafmap[maplibre]\""
   ]
  },
  {
   "cell_type": "code",
   "execution_count": null,
   "metadata": {},
   "outputs": [],
   "source": [
    "import leafmap.maplibregl as leafmap"
   ]
  },
  {
   "cell_type": "code",
   "execution_count": null,
   "metadata": {},
   "outputs": [],
   "source": [
    "style = {\n",
    "    \"version\": 8,\n",
    "    \"sources\": {\n",
    "        \"osm\": {\n",
    "            \"type\": \"raster\",\n",
    "            \"tiles\": [\"https://a.tile.openstreetmap.org/{z}/{x}/{y}.png\"],\n",
    "            \"tileSize\": 256,\n",
    "            \"attribution\": \"&copy; OpenStreetMap Contributors\",\n",
    "            \"maxzoom\": 19,\n",
    "        },\n",
    "        \"terrainSource\": {\n",
    "            \"type\": \"raster-dem\",\n",
    "            \"url\": \"https://demotiles.maplibre.org/terrain-tiles/tiles.json\",\n",
    "            \"tileSize\": 256,\n",
    "        },\n",
    "        \"hillshadeSource\": {\n",
    "            \"type\": \"raster-dem\",\n",
    "            \"url\": \"https://demotiles.maplibre.org/terrain-tiles/tiles.json\",\n",
    "            \"tileSize\": 256,\n",
    "        },\n",
    "    },\n",
    "    \"layers\": [\n",
    "        {\"id\": \"osm\", \"type\": \"raster\", \"source\": \"osm\"},\n",
    "        {\n",
    "            \"id\": \"hills\",\n",
    "            \"type\": \"hillshade\",\n",
    "            \"source\": \"hillshadeSource\",\n",
    "            \"layout\": {\"visibility\": \"visible\"},\n",
    "            \"paint\": {\"hillshade-shadow-color\": \"#473B24\"},\n",
    "        },\n",
    "    ],\n",
    "    \"terrain\": {\"source\": \"terrainSource\", \"exaggeration\": 1},\n",
    "}"
   ]
  },
  {
   "cell_type": "code",
   "execution_count": null,
   "metadata": {},
   "outputs": [],
   "source": [
    "m = leafmap.Map(center=[47.27574, 11.39085], zoom=12, pitch=52, style=style)\n",
    "m"
   ]
  },
  {
   "cell_type": "markdown",
   "metadata": {},
   "source": [
    "![](https://i.imgur.com/sjXZ2Jm.jpeg)"
   ]
  }
 ],
 "metadata": {
  "kernelspec": {
   "display_name": "Python 3 (ipykernel)",
   "language": "python",
   "name": "python3"
  },
  "language_info": {
   "codemirror_mode": {
    "name": "ipython",
    "version": 3
   },
   "file_extension": ".py",
   "mimetype": "text/x-python",
   "name": "python",
   "nbconvert_exporter": "python",
   "pygments_lexer": "ipython3",
   "version": "3.11.9"
  }
 },
 "nbformat": 4,
 "nbformat_minor": 4
}
