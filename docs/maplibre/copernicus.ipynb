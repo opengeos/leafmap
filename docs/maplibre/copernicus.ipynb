{
 "cells": [
  {
   "cell_type": "markdown",
   "id": "0",
   "metadata": {},
   "source": [
    "[![image](https://jupyterlite.rtfd.io/en/latest/_static/badge.svg)](https://demo.leafmap.org/lab/index.html?path=notebooks/107_copernicus.ipynb)\n",
    "[![image](https://colab.research.google.com/assets/colab-badge.svg)](https://colab.research.google.com/github/opengeos/leafmap/blob/master/docs/notebooks/107_copernicus.ipynb)\n",
    "[![image](https://mybinder.org/badge_logo.svg)](https://mybinder.org/v2/gh/opengeos/leafmap/HEAD)\n",
    "\n",
    "**Visualizing Copernicus data interactively with Leafmap**\n",
    "\n",
    "To learn more about Copernicus data, please visit https://dataspace.copernicus.eu.\n",
    "\n",
    "Uncomment the following line to install [leafmap](https://leafmap.org) if needed."
   ]
  },
  {
   "cell_type": "code",
   "execution_count": 1,
   "id": "1",
   "metadata": {},
   "outputs": [],
   "source": [
    "# %pip install -U leafmap localtileserver"
   ]
  },
  {
   "cell_type": "code",
   "execution_count": 2,
   "id": "2",
   "metadata": {},
   "outputs": [],
   "source": [
    "import os\n",
    "import rasterio\n",
    "import leafmap.maplibregl as leafmap"
   ]
  },
  {
   "cell_type": "markdown",
   "id": "31c88f47",
   "metadata": {},
   "source": [
    "To use Copernicus data, you need to get your own credentials. Follow the instructions [here](https://documentation.dataspace.copernicus.eu/APIs/S3.html) to get the credentials. Then, replace the `os.environ[\"AWS_ACCESS_KEY_ID\"]` and `os.environ[\"AWS_SECRET_ACCESS_KEY\"]` with your own credentials."
   ]
  },
  {
   "cell_type": "code",
   "execution_count": null,
   "id": "9c8a94dd",
   "metadata": {},
   "outputs": [],
   "source": [
    "os.environ[\"AWS_ACCESS_KEY_ID\"] = \"YOUR_ACCESS_KEY_ID\"\n",
    "os.environ[\"AWS_SECRET_ACCESS_KEY\"] = \"YOUR_SECRET_ACCESS_KEY\"\n",
    "os.environ[\"AWS_S3_ENDPOINT\"] = \"eodata.dataspace.copernicus.eu\"\n",
    "os.environ[\"AWS_VIRTUAL_HOSTING\"] = \"FALSE\"\n",
    "os.environ[\"GDAL_HTTP_UNSAFESSL\"] = \"YES\"\n",
    "os.environ[\"AWS_HTTPS\"] = \"YES\"\n",
    "os.environ[\"GDAL_HTTP_TCP_KEEPALIVE\"] = \"YES\""
   ]
  },
  {
   "cell_type": "markdown",
   "id": "4aec8296",
   "metadata": {},
   "source": [
    "You can create a `~/.s3cfg` file to store the credentials. Then use the following command to list the data.\n",
    "\n",
    "```bash\n",
    "s3cmd -c .s3cfg ls s3://eodata/\n",
    "```"
   ]
  },
  {
   "cell_type": "markdown",
   "id": "b08945bc",
   "metadata": {},
   "source": [
    "Let's try out the sample dataset of global water bodies."
   ]
  },
  {
   "cell_type": "code",
   "execution_count": 4,
   "id": "ad434066",
   "metadata": {},
   "outputs": [],
   "source": [
    "url = \"/vsis3/eodata/CLMS/bio-geophysical/water_bodies/wb_global_1km_10daily_v2/2018/01/01/c_gls_WB_201801010000_GLOBE_PROBAV_V2.1.1_cog/c_gls_WB-WB_201801010000_GLOBE_PROBAV_V2.1.1.tiff\""
   ]
  },
  {
   "cell_type": "code",
   "execution_count": 5,
   "id": "a14858df",
   "metadata": {},
   "outputs": [
    {
     "name": "stdout",
     "output_type": "stream",
     "text": [
      "{'driver': 'GTiff', 'dtype': 'uint8', 'nodata': 251.0, 'width': 40320, 'height': 15680, 'count': 1, 'crs': CRS.from_wkt('GEOGCS[\"WGS 84\",DATUM[\"WGS_1984\",SPHEROID[\"WGS 84\",6378137,298.257223563,AUTHORITY[\"EPSG\",\"7030\"]],AUTHORITY[\"EPSG\",\"6326\"]],PRIMEM[\"Greenwich\",0,AUTHORITY[\"EPSG\",\"8901\"]],UNIT[\"degree\",0.0174532925199433,AUTHORITY[\"EPSG\",\"9122\"]],AXIS[\"Latitude\",NORTH],AXIS[\"Longitude\",EAST],AUTHORITY[\"EPSG\",\"4326\"]]'), 'transform': Affine(0.00892857142858361, 0.0, -180.00446428571428,\n",
      "       0.0, -0.0089285714285694, 80.00446428571429), 'blockxsize': 512, 'blockysize': 512, 'tiled': True, 'compress': 'deflate', 'interleave': 'band'}\n"
     ]
    }
   ],
   "source": [
    "with rasterio.open(url) as src:\n",
    "    print(src.profile)"
   ]
  },
  {
   "cell_type": "markdown",
   "id": "858922a0",
   "metadata": {},
   "source": [
    "Visualize the water bodies interactively with Leafmap."
   ]
  },
  {
   "cell_type": "code",
   "execution_count": 6,
   "id": "dffc8c64",
   "metadata": {},
   "outputs": [
    {
     "data": {
      "application/vnd.jupyter.widget-view+json": {
       "model_id": "126f36af0c764564bf0f4c9b706758f9",
       "version_major": 2,
       "version_minor": 0
      },
      "text/plain": [
       "Html(children=[Map(calls=[['addControl', ('NavigationControl', {'showCompass': True, 'showZoom': True, 'visual…"
      ]
     },
     "metadata": {},
     "output_type": "display_data"
    }
   ],
   "source": [
    "m = leafmap.Map(projection=\"globe\")\n",
    "m.add_basemap(\"Esri.WorldImagery\", visible=False)\n",
    "m.add_raster(url, vmin=1, vmax=100, colormap=\"Blues\", layer_name=\"Water Bodies\")\n",
    "m"
   ]
  },
  {
   "cell_type": "markdown",
   "id": "6dc92e78",
   "metadata": {},
   "source": [
    "![](https://github.com/user-attachments/assets/f251654f-efd3-4e35-9e12-11cf790885a3)"
   ]
  }
 ],
 "metadata": {
  "kernelspec": {
   "display_name": "geo",
   "language": "python",
   "name": "python3"
  },
  "language_info": {
   "codemirror_mode": {
    "name": "ipython",
    "version": 3
   },
   "file_extension": ".py",
   "mimetype": "text/x-python",
   "name": "python",
   "nbconvert_exporter": "python",
   "pygments_lexer": "ipython3",
   "version": "3.12.2"
  }
 },
 "nbformat": 4,
 "nbformat_minor": 5
}
