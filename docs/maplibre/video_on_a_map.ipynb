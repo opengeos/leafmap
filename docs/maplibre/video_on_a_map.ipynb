{
 "cells": [
  {
   "cell_type": "markdown",
   "metadata": {},
   "source": [
    "[![image](https://jupyterlite.rtfd.io/en/latest/_static/badge.svg)](https://demo.leafmap.org/lab/index.html?path=maplibre/add_video.ipynb)\n",
    "[![image](https://colab.research.google.com/assets/colab-badge.svg)](https://colab.research.google.com/github/opengeos/leafmap/blob/master/docs/maplibre/add_video.ipynb)\n",
    "[![image](https://mybinder.org/badge_logo.svg)](https://mybinder.org/v2/gh/opengeos/leafmap/HEAD)\n",
    "\n",
    "**Add a video**\n",
    "\n",
    "This source code of this example is adapted from the MapLibre GL JS example - [Add a video](https://maplibre.org/maplibre-gl-js/docs/examples/video-on-a-map/).\n",
    "\n",
    "Uncomment the following line to install [leafmap](https://leafmap.org) if needed."
   ]
  },
  {
   "cell_type": "code",
   "execution_count": null,
   "metadata": {},
   "outputs": [],
   "source": [
    "# %pip install \"leafmap[maplibre]\""
   ]
  },
  {
   "cell_type": "code",
   "execution_count": null,
   "metadata": {},
   "outputs": [],
   "source": [
    "import os\n",
    "import leafmap.maplibregl as leafmap"
   ]
  },
  {
   "cell_type": "markdown",
   "metadata": {},
   "source": [
    "To run this notebook, you will need an [API key](https://docs.maptiler.com/cloud/api/authentication-key/) from [MapTiler](https://www.maptiler.com/cloud/). Once you have the API key, you can set it as an environment variable in your notebook or script as follows:"
   ]
  },
  {
   "cell_type": "code",
   "execution_count": null,
   "metadata": {},
   "outputs": [],
   "source": [
    "# os.environ[\"MAPTILER_KEY\"] = \"YOUR_API_KEY\""
   ]
  },
  {
   "cell_type": "code",
   "execution_count": null,
   "metadata": {},
   "outputs": [],
   "source": [
    "MAPTILER_KEY = leafmap.get_api_key(\"MAPTILER_KEY\")"
   ]
  },
  {
   "cell_type": "code",
   "execution_count": null,
   "metadata": {},
   "outputs": [],
   "source": [
    "style = {\n",
    "    \"version\": 8,\n",
    "    \"sources\": {\n",
    "        \"satellite\": {\n",
    "            \"type\": \"raster\",\n",
    "            \"url\": f\"https://api.maptiler.com/tiles/satellite/tiles.json?key={MAPTILER_KEY}\",\n",
    "            \"tileSize\": 256,\n",
    "        },\n",
    "        \"video\": {\n",
    "            \"type\": \"video\",\n",
    "            \"urls\": [\n",
    "                \"https://static-assets.mapbox.com/mapbox-gl-js/drone.mp4\",\n",
    "                \"https://static-assets.mapbox.com/mapbox-gl-js/drone.webm\",\n",
    "            ],\n",
    "            \"coordinates\": [\n",
    "                [-122.51596391201019, 37.56238816766053],\n",
    "                [-122.51467645168304, 37.56410183312965],\n",
    "                [-122.51309394836426, 37.563391708549425],\n",
    "                [-122.51423120498657, 37.56161849366671],\n",
    "            ],\n",
    "        },\n",
    "    },\n",
    "    \"layers\": [\n",
    "        {\n",
    "            \"id\": \"background\",\n",
    "            \"type\": \"background\",\n",
    "            \"paint\": {\"background-color\": \"rgb(4,7,14)\"},\n",
    "        },\n",
    "        {\"id\": \"satellite\", \"type\": \"raster\", \"source\": \"satellite\"},\n",
    "        {\"id\": \"video\", \"type\": \"raster\", \"source\": \"video\"},\n",
    "    ],\n",
    "}"
   ]
  },
  {
   "cell_type": "code",
   "execution_count": null,
   "metadata": {},
   "outputs": [],
   "source": [
    "m = leafmap.Map(center=[-122.514426, 37.562984], zoom=17, bearing=-96, style=style)\n",
    "m"
   ]
  },
  {
   "cell_type": "markdown",
   "metadata": {},
   "source": [
    "![](https://i.imgur.com/8YGYanS.jpeg)"
   ]
  }
 ],
 "metadata": {
  "kernelspec": {
   "display_name": "Python 3 (ipykernel)",
   "language": "python",
   "name": "python3"
  },
  "language_info": {
   "codemirror_mode": {
    "name": "ipython",
    "version": 3
   },
   "file_extension": ".py",
   "mimetype": "text/x-python",
   "name": "python",
   "nbconvert_exporter": "python",
   "pygments_lexer": "ipython3",
   "version": "3.11.8"
  }
 },
 "nbformat": 4,
 "nbformat_minor": 4
}
