{
 "cells": [
  {
   "cell_type": "markdown",
   "id": "7b1860f9",
   "metadata": {},
   "source": [
    "[![image](https://jupyterlite.rtfd.io/en/latest/_static/badge.svg)](https://demo.leafmap.org/lab/index.html?path=notebooks/106_aws_s3.ipynb)\n",
    "[![image](https://colab.research.google.com/assets/colab-badge.svg)](https://colab.research.google.com/github/opengeos/leafmap/blob/master/docs/notebooks/106_aws_s3.ipynb)\n",
    "[![image](https://mybinder.org/badge_logo.svg)](https://mybinder.org/v2/gh/opengeos/leafmap/HEAD)\n",
    "\n",
    "**Accessing files from AWS S3**\n",
    "\n",
    "Uncomment the following line to install [leafmap](https://leafmap.org) if needed."
   ]
  },
  {
   "cell_type": "code",
   "execution_count": null,
   "id": "d9bcce87",
   "metadata": {},
   "outputs": [],
   "source": [
    "# %pip install -U leafmap"
   ]
  },
  {
   "cell_type": "code",
   "execution_count": null,
   "id": "aceb1c17",
   "metadata": {},
   "outputs": [],
   "source": [
    "from leafmap.common import s3_list_directories, s3_list_files, s3_get_file"
   ]
  },
  {
   "cell_type": "code",
   "execution_count": null,
   "id": "772bf92d",
   "metadata": {},
   "outputs": [],
   "source": [
    "bucket = \"overturemaps-us-west-2\"\n",
    "prefix = \"release\"\n",
    "region = \"us-west-2\""
   ]
  },
  {
   "cell_type": "code",
   "execution_count": null,
   "id": "06d0fdac",
   "metadata": {},
   "outputs": [],
   "source": [
    "s3_list_directories(bucket, prefix, region=region, return_full_path=False)"
   ]
  },
  {
   "cell_type": "code",
   "execution_count": null,
   "id": "52f1064a",
   "metadata": {},
   "outputs": [],
   "source": [
    "prefix = \"release/2025-07-23.0/theme=buildings/type=building\""
   ]
  },
  {
   "cell_type": "code",
   "execution_count": null,
   "id": "e10b2485",
   "metadata": {},
   "outputs": [],
   "source": [
    "s3_list_files(bucket, prefix, region=region, skip_signature=True, return_full_path=True)"
   ]
  },
  {
   "cell_type": "code",
   "execution_count": null,
   "id": "c441c4c2",
   "metadata": {},
   "outputs": [],
   "source": [
    "path = \"s3://us-west-2.opendata.source.coop/giswqs/nwi/state_boundary/AK.parquet\"\n",
    "output_file = \"AK.parquet\""
   ]
  },
  {
   "cell_type": "code",
   "execution_count": null,
   "id": "3f42fb50",
   "metadata": {},
   "outputs": [],
   "source": [
    "s3_get_file(path, region=region, skip_signature=True, output_file=output_file)"
   ]
  }
 ],
 "metadata": {
  "kernelspec": {
   "display_name": "geo",
   "language": "python",
   "name": "python3"
  },
  "language_info": {
   "codemirror_mode": {
    "name": "ipython",
    "version": 3
   },
   "file_extension": ".py",
   "mimetype": "text/x-python",
   "name": "python",
   "nbconvert_exporter": "python",
   "pygments_lexer": "ipython3",
   "version": "3.12.2"
  }
 },
 "nbformat": 4,
 "nbformat_minor": 5
}
