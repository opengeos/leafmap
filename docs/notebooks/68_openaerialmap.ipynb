{
 "cells": [
  {
   "attachments": {},
   "cell_type": "markdown",
   "id": "a52c399d",
   "metadata": {},
   "source": [
    "[![image](https://jupyterlite.rtfd.io/en/latest/_static/badge.svg)](https://demo.leafmap.org/lab/index.html?path=notebooks/68_openaerialmap.ipynb)\n",
    "[![image](https://colab.research.google.com/assets/colab-badge.svg)](https://githubtocolab.com/giswqs/leafmap/blob/master/examples/notebooks/68_openaerialmap.ipynb)\n",
    "[![image](https://mybinder.org/badge_logo.svg)](https://gishub.org/leafmap-binder)\n",
    "\n",
    "**Searching and visualizing OpenAerialMap imagery interactively**\n",
    "\n",
    "[OpenAerialMap](https://openaerialmap.org/) (OAM) provides openly licensed satellite and unmanned aerial vehicle (UAV) imagery. Currently, it has over 12,400+ images around the globe. This notebook demonstrates how to search and visualize OAM imagery interactively. You can download images automatically with one line of code.\n",
    "\n",
    "\n",
    "Uncomment the following line to install [leafmap](https://leafmap.org) if needed."
   ]
  },
  {
   "cell_type": "code",
   "execution_count": null,
   "id": "9c4fb93a",
   "metadata": {},
   "outputs": [],
   "source": [
    "import leafmap"
   ]
  },
  {
   "attachments": {},
   "cell_type": "markdown",
   "id": "9b1576ef",
   "metadata": {},
   "source": [
    "Search OAM images by a bounding box and a date range. The results can be returned as a GeoDataFrame or a list of image metadata."
   ]
  },
  {
   "cell_type": "code",
   "execution_count": null,
   "id": "3faf97cf",
   "metadata": {},
   "outputs": [],
   "source": [
    "bbox = [-79.6344, -0.9063, -77.3383, 1.0436]\n",
    "start_date = '2016-04-01'\n",
    "end_date = '2016-04-30'\n",
    "gdf = leafmap.oam_search(\n",
    "    bbox=bbox, start_date=start_date, end_date=end_date, return_gdf=True\n",
    ")\n",
    "print(f'Found {len(gdf)} images')"
   ]
  },
  {
   "cell_type": "code",
   "execution_count": null,
   "id": "2c42a4f3",
   "metadata": {},
   "outputs": [],
   "source": [
    "gdf.head()"
   ]
  },
  {
   "attachments": {},
   "cell_type": "markdown",
   "id": "7891bfd5",
   "metadata": {},
   "source": [
    "The tile URLs are stored in the `tms` column of the GeoDataFrame. "
   ]
  },
  {
   "cell_type": "code",
   "execution_count": null,
   "id": "2590aa67",
   "metadata": {},
   "outputs": [],
   "source": [
    "tiles = gdf['tms'].tolist()\n",
    "tiles[:5]"
   ]
  },
  {
   "attachments": {},
   "cell_type": "markdown",
   "id": "53504722",
   "metadata": {},
   "source": [
    "The image sources (downloadable URLs) are stored in the `uuid` column of the GeoDataFrame."
   ]
  },
  {
   "cell_type": "code",
   "execution_count": null,
   "id": "4da8e660",
   "metadata": {},
   "outputs": [],
   "source": [
    "images = gdf['uuid'].tolist()\n",
    "images[:5]"
   ]
  },
  {
   "attachments": {},
   "cell_type": "markdown",
   "id": "a738613f",
   "metadata": {},
   "source": [
    "Download all images using the `download_files()` function."
   ]
  },
  {
   "cell_type": "code",
   "execution_count": null,
   "id": "2594bf42",
   "metadata": {},
   "outputs": [],
   "source": [
    "leafmap.download_files(images[:2])"
   ]
  },
  {
   "attachments": {},
   "cell_type": "markdown",
   "id": "64ad02ce",
   "metadata": {},
   "source": [
    "Add the image footprints to the map."
   ]
  },
  {
   "cell_type": "code",
   "execution_count": null,
   "id": "9e0c2ca5",
   "metadata": {},
   "outputs": [],
   "source": [
    "m = leafmap.Map()\n",
    "m.add_gdf(gdf, layer_name='Footprints')\n",
    "m"
   ]
  },
  {
   "attachments": {},
   "cell_type": "markdown",
   "id": "3bc87778",
   "metadata": {},
   "source": [
    "Search OAM imagery within the current map extent or user drawn ROI."
   ]
  },
  {
   "cell_type": "code",
   "execution_count": null,
   "id": "d76e7352",
   "metadata": {},
   "outputs": [],
   "source": [
    "m = leafmap.Map(center=[4.7955, -75.6899], zoom=15)\n",
    "m.add_basemap('SATELLITE', show=False)\n",
    "\n",
    "bbox = [-75.7138, 4.7826, -75.6659, 4.808332]\n",
    "m.oam_search(bbox=bbox)\n",
    "\n",
    "m"
   ]
  },
  {
   "attachments": {},
   "cell_type": "markdown",
   "id": "9de22808",
   "metadata": {},
   "source": [
    "Search OAM imagery interactively using the interactive GUI."
   ]
  },
  {
   "cell_type": "code",
   "execution_count": null,
   "id": "878a78e4",
   "metadata": {},
   "outputs": [],
   "source": [
    "m = leafmap.Map(center=[4.7955, -75.6899], zoom=15)\n",
    "m"
   ]
  },
  {
   "attachments": {},
   "cell_type": "markdown",
   "id": "d398bddd",
   "metadata": {},
   "source": [
    "![](https://i.imgur.com/YLnNOVF.gif)"
   ]
  }
 ],
 "metadata": {
  "kernelspec": {
   "display_name": "geo",
   "language": "python",
   "name": "python3"
  },
  "language_info": {
   "codemirror_mode": {
    "name": "ipython",
    "version": 3
   },
   "file_extension": ".py",
   "mimetype": "text/x-python",
   "name": "python",
   "nbconvert_exporter": "python",
   "pygments_lexer": "ipython3",
   "version": "3.10.9"
  },
  "vscode": {
   "interpreter": {
    "hash": "31f05ea183a4718249d13ada7f166c6bdba1d00716247af5c11c23af8d5923f1"
   }
  }
 },
 "nbformat": 4,
 "nbformat_minor": 5
}
