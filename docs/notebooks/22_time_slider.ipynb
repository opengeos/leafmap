{
 "cells": [
  {
   "cell_type": "markdown",
   "metadata": {},
   "source": [
    "[![image](https://mybinder.org/badge_logo.svg)](https://gishub.org/leafmap-binder)\n",
    "\n",
    "**Using time slider for visualizing timeseries images**\n",
    "\n",
    "Uncomment the following line to install [leafmap](https://leafmap.org) if needed."
   ]
  },
  {
   "cell_type": "code",
   "execution_count": null,
   "metadata": {},
   "outputs": [],
   "source": [
    "# !pip install leafmap"
   ]
  },
  {
   "cell_type": "markdown",
   "metadata": {},
   "source": [
    "This notebook requires the ipyleaflet plotting backend. Folium is not supported."
   ]
  },
  {
   "cell_type": "code",
   "execution_count": null,
   "metadata": {},
   "outputs": [],
   "source": [
    "from leafmap import leafmap"
   ]
  },
  {
   "cell_type": "markdown",
   "metadata": {},
   "source": [
    "First, you need to sign up a Planet account and get an API key. See https://developers.planet.com/quickstart/apis.\n",
    "Uncomment the following line to pass in your API key."
   ]
  },
  {
   "cell_type": "code",
   "execution_count": null,
   "metadata": {},
   "outputs": [],
   "source": [
    "# os.environ[\"PLANET_API_KEY\"] = \"12345\""
   ]
  },
  {
   "cell_type": "markdown",
   "metadata": {},
   "source": [
    "![](https://i.imgur.com/ipVJ4cb.gif)"
   ]
  },
  {
   "cell_type": "markdown",
   "metadata": {},
   "source": [
    "Specify the map center and zoom level. "
   ]
  },
  {
   "cell_type": "code",
   "execution_count": null,
   "metadata": {
    "scrolled": false
   },
   "outputs": [],
   "source": [
    "m = leafmap.Map(center=[38.2659, -103.2447], zoom=13)\n",
    "m"
   ]
  },
  {
   "cell_type": "markdown",
   "metadata": {},
   "source": [
    "Use the time slider to visualize Planet quarterly mosaic."
   ]
  },
  {
   "cell_type": "code",
   "execution_count": null,
   "metadata": {},
   "outputs": [],
   "source": [
    "m = leafmap.Map()\n",
    "layers_dict = leafmap.planet_quarterly_tiles()\n",
    "m.add_time_slider(layers_dict, time_interval=1)\n",
    "m"
   ]
  },
  {
   "cell_type": "markdown",
   "metadata": {},
   "source": [
    "Use the time slider to visualize basemaps."
   ]
  },
  {
   "cell_type": "code",
   "execution_count": null,
   "metadata": {},
   "outputs": [],
   "source": [
    "m = leafmap.Map()\n",
    "m.clear_layers()\n",
    "layers_dict = leafmap.basemap_xyz_tiles()\n",
    "m.add_time_slider(layers_dict, time_interval=1)\n",
    "m"
   ]
  },
  {
   "cell_type": "markdown",
   "metadata": {},
   "source": [
    "Use the time slider to visualize COG assets found within STAC items."
   ]
  },
  {
   "cell_type": "code",
   "execution_count": null,
   "metadata": {},
   "outputs": [],
   "source": [
    "import ipyleaflet\n",
    "import json\n",
    "import requests\n",
    "\n",
    "stac_api = \"https://earth-search.aws.element84.com/v0\"\n",
    "search_endpoint = f\"{stac_api}/search\"\n",
    "\n",
    "collection = \"sentinel-s2-l2a-cogs\"\n",
    "payload = {\n",
    "    \"bbox\": [\n",
    "        -102.83340454101562,\n",
    "        49.77860375256143,\n",
    "        -102.41043090820312,\n",
    "        50.05273014900257,\n",
    "    ],\n",
    "    \"datetime\": \"2021-07-01T00:00:00Z/2021-10-01T12:31:12Z\",\n",
    "    \"collections\": [collection],\n",
    "    \"limit\": 10,\n",
    "    \"query\": {\"eo:cloud_cover\": {\"gte\": 0, \"lte\": 10}},\n",
    "}\n",
    "\n",
    "headers = {'Content-Type': 'application/json'}\n",
    "\n",
    "response = requests.request(\n",
    "    \"POST\", search_endpoint, headers=headers, data=json.dumps(payload)\n",
    ")\n",
    "\n",
    "features = response.json()[\"features\"]\n",
    "features.sort(key=lambda x: x[\"properties\"][\"datetime\"], reverse=False)\n",
    "\n",
    "layers_dict = {}\n",
    "for feature in features:\n",
    "    feature_id = feature[\"id\"]\n",
    "    print(feature_id)\n",
    "\n",
    "    url = leafmap.stac_tile(\n",
    "        f\"{stac_api}/collections/{collection}/items/{feature_id}\", bands=[\"visual\"]\n",
    "    )\n",
    "    tile_layer = ipyleaflet.TileLayer(\n",
    "        url=url,\n",
    "        name=feature_id,\n",
    "    )\n",
    "    layers_dict[feature_id] = tile_layer\n",
    "\n",
    "m = leafmap.Map(center=[50.093079, -103.152825], zoom=11)\n",
    "m.add_time_slider(layers_dict, time_interval=2)\n",
    "m"
   ]
  }
 ],
 "metadata": {
  "hide_input": false,
  "kernelspec": {
   "display_name": "Python 3",
   "language": "python",
   "name": "python3"
  },
  "language_info": {
   "codemirror_mode": {
    "name": "ipython",
    "version": 3
   },
   "file_extension": ".py",
   "mimetype": "text/x-python",
   "name": "python",
   "nbconvert_exporter": "python",
   "pygments_lexer": "ipython3",
   "version": "3.8.8"
  },
  "toc": {
   "base_numbering": 1,
   "nav_menu": {},
   "number_sections": true,
   "sideBar": true,
   "skip_h1_title": false,
   "title_cell": "Table of Contents",
   "title_sidebar": "Contents",
   "toc_cell": false,
   "toc_position": {},
   "toc_section_display": true,
   "toc_window_display": false
  },
  "varInspector": {
   "cols": {
    "lenName": 16,
    "lenType": 16,
    "lenVar": 40
   },
   "kernels_config": {
    "python": {
     "delete_cmd_postfix": "",
     "delete_cmd_prefix": "del ",
     "library": "var_list.py",
     "varRefreshCmd": "print(var_dic_list())"
    },
    "r": {
     "delete_cmd_postfix": ") ",
     "delete_cmd_prefix": "rm(",
     "library": "var_list.r",
     "varRefreshCmd": "cat(var_dic_list()) "
    }
   },
   "types_to_exclude": [
    "module",
    "function",
    "builtin_function_or_method",
    "instance",
    "_Feature"
   ],
   "window_display": false
  }
 },
 "nbformat": 4,
 "nbformat_minor": 4
}
