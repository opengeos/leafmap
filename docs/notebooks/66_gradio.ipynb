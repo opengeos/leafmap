{
 "cells": [
  {
   "cell_type": "markdown",
   "metadata": {},
   "source": [
    "[![image](https://jupyterlite.rtfd.io/en/latest/_static/badge.svg)](https://demo.leafmap.org/lab/index.html?path=notebooks/66_gradio.ipynb)\n",
    "[![image](https://studiolab.sagemaker.aws/studiolab.svg)](https://studiolab.sagemaker.aws/import/github/opengeos/leafmap/blob/master/examples/notebooks/66_gradio.ipynb)\n",
    "[![image](https://img.shields.io/badge/Open-Planetary%20Computer-black?style=flat&logo=microsoft)](https://pccompute.westeurope.cloudapp.azure.com/compute/hub/user-redirect/git-pull?repo=https://github.com/opengeos/leafmap&urlpath=lab/tree/leafmap/examples/notebooks/66_gradio.ipynb&branch=master)\n",
    "[![image](https://colab.research.google.com/assets/colab-badge.svg)](https://githubtocolab.com/opengeos/leafmap/blob/master/examples/notebooks/66_gradio.ipynb)\n",
    "[![image](https://mybinder.org/badge_logo.svg)](https://gishub.org/leafmap-binder)\n",
    "\n",
    "**Developing interactive web apps with gradio and leafmap**\n",
    "\n",
    "Gradio: https://gradio.app"
   ]
  },
  {
   "cell_type": "code",
   "execution_count": null,
   "metadata": {},
   "outputs": [],
   "source": [
    "# !pip install -U leafmap"
   ]
  },
  {
   "cell_type": "markdown",
   "metadata": {},
   "source": [
    "## Folium backend"
   ]
  },
  {
   "cell_type": "code",
   "execution_count": null,
   "metadata": {},
   "outputs": [],
   "source": [
    "import gradio as gr\n",
    "import leafmap.foliumap as leafmap\n",
    "\n",
    "\n",
    "def split(left, right):\n",
    "    m = leafmap.Map()\n",
    "    m.split_map(left_layer=left, right_layer=right)\n",
    "    return m.to_gradio()\n",
    "\n",
    "\n",
    "left_url = 'https://opendata.digitalglobe.com/events/california-fire-2020/pre-event/2018-02-16/pine-gulch-fire20/1030010076004E00.tif'\n",
    "right_url = 'https://opendata.digitalglobe.com/events/california-fire-2020/post-event/2020-08-14/pine-gulch-fire20/10300100AAC8DD00.tif'\n",
    "left_input = gr.Textbox(value=left_url, label=\"Left Layer URL\")\n",
    "right_input = gr.Textbox(value=right_url, label=\"Right Layer URL\")\n",
    "\n",
    "demo = gr.Interface(split, [left_input, right_input], \"html\")\n",
    "# demo.launch()"
   ]
  },
  {
   "cell_type": "markdown",
   "metadata": {},
   "source": [
    "![](https://i.imgur.com/srsosv6.gif)"
   ]
  },
  {
   "cell_type": "markdown",
   "metadata": {},
   "source": [
    "## Plotly backend"
   ]
  },
  {
   "cell_type": "code",
   "execution_count": null,
   "metadata": {},
   "outputs": [],
   "source": [
    "import gradio as gr\n",
    "import leafmap.plotlymap as leafmap\n",
    "\n",
    "\n",
    "def viz_cog(url):\n",
    "    m = leafmap.Map()\n",
    "    m.add_cog_layer(url)\n",
    "    return m\n",
    "\n",
    "\n",
    "url = 'https://opendata.digitalglobe.com/events/california-fire-2020/pre-event/2018-02-16/pine-gulch-fire20/1030010076004E00.tif'\n",
    "\n",
    "demo = gr.Interface(\n",
    "    fn=viz_cog,\n",
    "    inputs=gr.Text(value=url, label='Enter a COG URL'),\n",
    "    outputs=gr.Plot().style(),\n",
    ")\n",
    "# demo.launch()"
   ]
  },
  {
   "cell_type": "markdown",
   "metadata": {},
   "source": [
    "![](https://i.imgur.com/ktzZlON.gif)"
   ]
  }
 ],
 "metadata": {
  "kernelspec": {
   "display_name": "Python 3",
   "language": "python",
   "name": "python3"
  }
 },
 "nbformat": 4,
 "nbformat_minor": 5
}
