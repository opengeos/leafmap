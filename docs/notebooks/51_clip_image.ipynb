{
 "cells": [
  {
   "cell_type": "markdown",
   "metadata": {},
   "source": [
    "[![image](https://colab.research.google.com/assets/colab-badge.svg)](https://githubtocolab.com/giswqs/leafmap/blob/master/examples/notebooks/51_clip_image.ipynb)\n",
    "[![image](https://mybinder.org/badge_logo.svg)](https://gishub.org/leafmap-binder)\n",
    "\n",
    "Uncomment the following line to install [leafmap](https://leafmap.org) if needed."
   ]
  },
  {
   "cell_type": "code",
   "execution_count": null,
   "metadata": {},
   "outputs": [],
   "source": [
    "# !pip install leafmap rasterio fiona"
   ]
  },
  {
   "cell_type": "code",
   "execution_count": 1,
   "metadata": {},
   "outputs": [],
   "source": [
    "import leafmap"
   ]
  },
  {
   "cell_type": "markdown",
   "metadata": {},
   "source": [
    "Download a sample raster dataset."
   ]
  },
  {
   "cell_type": "code",
   "execution_count": 2,
   "metadata": {},
   "outputs": [],
   "source": [
    "url = 'https://github.com/giswqs/data/raw/main/raster/srtm90.tif'\n",
    "dem = 'dem.tif'"
   ]
  },
  {
   "cell_type": "code",
   "execution_count": 3,
   "metadata": {},
   "outputs": [
    {
     "name": "stdout",
     "output_type": "stream",
     "text": [
      "dem.tif already exists. Skip downloading. Set overwrite=True to overwrite.\n"
     ]
    },
    {
     "data": {
      "text/plain": [
       "'/media/hdd/Dropbox/git/leafmap/docs/notebooks/dem.tif'"
      ]
     },
     "execution_count": 3,
     "metadata": {},
     "output_type": "execute_result"
    }
   ],
   "source": [
    "leafmap.download_file(url, dem, overwrite=True)"
   ]
  },
  {
   "cell_type": "markdown",
   "metadata": {},
   "source": [
    "Create an interactive map."
   ]
  },
  {
   "cell_type": "code",
   "execution_count": 4,
   "metadata": {},
   "outputs": [
    {
     "data": {
      "application/vnd.jupyter.widget-view+json": {
       "model_id": "3a33dfc7faf04687bd4adbf3c63dd802",
       "version_major": 2,
       "version_minor": 0
      },
      "text/plain": [
       "Map(center=[20, 0], controls=(ZoomControl(options=['position', 'zoom_in_text', 'zoom_in_title', 'zoom_out_text…"
      ]
     },
     "metadata": {},
     "output_type": "display_data"
    }
   ],
   "source": [
    "m = leafmap.Map()\n",
    "m.add_raster(dem, palette='terrain', layer_name=\"DEM\")\n",
    "m"
   ]
  },
  {
   "cell_type": "markdown",
   "metadata": {},
   "source": [
    "Define a mask to extract the image. The mask can be a string representing a file path to a vector dataset (e.g., geojson, shp), or a list of coordinates (e.g., `[[lon,lat], [lon,lat]]`), or a dictionary representing a feature (e.g., m.user_roi).\n",
    "\n",
    "For example, the mask can be a filepath to a vector dataset."
   ]
  },
  {
   "cell_type": "code",
   "execution_count": null,
   "metadata": {},
   "outputs": [],
   "source": [
    "# mask = 'https://raw.githubusercontent.com/giswqs/leafmap/master/examples/data/mask.geojson'"
   ]
  },
  {
   "cell_type": "markdown",
   "metadata": {},
   "source": [
    "Or you can draw a polygon on the map, then use `m.user_roi` as the mask."
   ]
  },
  {
   "cell_type": "code",
   "execution_count": null,
   "metadata": {},
   "outputs": [],
   "source": [
    "# mask = m.user_roi"
   ]
  },
  {
   "cell_type": "markdown",
   "metadata": {},
   "source": [
    "Or specify a list of coordinates `[lon, lat]` as the mask."
   ]
  },
  {
   "cell_type": "code",
   "execution_count": 5,
   "metadata": {},
   "outputs": [],
   "source": [
    "mask = [\n",
    "    [-119.679565, 37.256566],\n",
    "    [-119.679565, 38.061067],\n",
    "    [-118.24585, 38.061067],\n",
    "    [-118.24585, 37.256566],\n",
    "    [-119.679565, 37.256566],\n",
    "]"
   ]
  },
  {
   "cell_type": "markdown",
   "metadata": {},
   "source": [
    "Specify the output filename."
   ]
  },
  {
   "cell_type": "code",
   "execution_count": 6,
   "metadata": {},
   "outputs": [],
   "source": [
    "output = 'clip.tif'"
   ]
  },
  {
   "cell_type": "markdown",
   "metadata": {},
   "source": [
    "Clip image by mask."
   ]
  },
  {
   "cell_type": "code",
   "execution_count": 7,
   "metadata": {},
   "outputs": [
    {
     "ename": "ValueError",
     "evalue": "Input shapes do not overlap raster.",
     "output_type": "error",
     "traceback": [
      "\u001b[0;31m---------------------------------------------------------------------------\u001b[0m",
      "\u001b[0;31mWindowError\u001b[0m                               Traceback (most recent call last)",
      "File \u001b[0;32m~/.conda/envs/geo/lib/python3.9/site-packages/rasterio/mask.py:80\u001b[0m, in \u001b[0;36mraster_geometry_mask\u001b[0;34m(dataset, shapes, all_touched, invert, crop, pad, pad_width)\u001b[0m\n\u001b[1;32m     79\u001b[0m \u001b[39mtry\u001b[39;00m:\n\u001b[0;32m---> 80\u001b[0m     window \u001b[39m=\u001b[39m geometry_window(dataset, shapes, pad_x\u001b[39m=\u001b[39;49mpad_x, pad_y\u001b[39m=\u001b[39;49mpad_y)\n\u001b[1;32m     82\u001b[0m \u001b[39mexcept\u001b[39;00m WindowError:\n\u001b[1;32m     83\u001b[0m     \u001b[39m# If shapes do not overlap raster, raise Exception or UserWarning\u001b[39;00m\n\u001b[1;32m     84\u001b[0m     \u001b[39m# depending on value of crop\u001b[39;00m\n",
      "File \u001b[0;32m~/.conda/envs/geo/lib/python3.9/site-packages/rasterio/features.py:473\u001b[0m, in \u001b[0;36mgeometry_window\u001b[0;34m(dataset, shapes, pad_x, pad_y, north_up, rotated, pixel_precision, boundless)\u001b[0m\n\u001b[1;32m    472\u001b[0m \u001b[39mif\u001b[39;00m \u001b[39mnot\u001b[39;00m boundless:\n\u001b[0;32m--> 473\u001b[0m     window \u001b[39m=\u001b[39m window\u001b[39m.\u001b[39;49mintersection(raster_window)\n\u001b[1;32m    475\u001b[0m \u001b[39mreturn\u001b[39;00m window\n",
      "File \u001b[0;32m~/.conda/envs/geo/lib/python3.9/site-packages/rasterio/windows.py:772\u001b[0m, in \u001b[0;36mWindow.intersection\u001b[0;34m(self, other)\u001b[0m\n\u001b[1;32m    760\u001b[0m \u001b[39m\"\"\"Return the intersection of this window and another\u001b[39;00m\n\u001b[1;32m    761\u001b[0m \n\u001b[1;32m    762\u001b[0m \u001b[39mParameters\u001b[39;00m\n\u001b[0;32m   (...)\u001b[0m\n\u001b[1;32m    770\u001b[0m \u001b[39mWindow\u001b[39;00m\n\u001b[1;32m    771\u001b[0m \u001b[39m\"\"\"\u001b[39;00m\n\u001b[0;32m--> 772\u001b[0m \u001b[39mreturn\u001b[39;00m intersection([\u001b[39mself\u001b[39;49m, other])\n",
      "File \u001b[0;32m~/.conda/envs/geo/lib/python3.9/site-packages/rasterio/windows.py:125\u001b[0m, in \u001b[0;36miter_args.<locals>.wrapper\u001b[0;34m(*args, **kwargs)\u001b[0m\n\u001b[1;32m    124\u001b[0m \u001b[39mif\u001b[39;00m \u001b[39mlen\u001b[39m(args) \u001b[39m==\u001b[39m \u001b[39m1\u001b[39m \u001b[39mand\u001b[39;00m \u001b[39misinstance\u001b[39m(args[\u001b[39m0\u001b[39m], Iterable):\n\u001b[0;32m--> 125\u001b[0m     \u001b[39mreturn\u001b[39;00m function(\u001b[39m*\u001b[39;49margs[\u001b[39m0\u001b[39;49m])\n\u001b[1;32m    126\u001b[0m \u001b[39melse\u001b[39;00m:\n",
      "File \u001b[0;32m~/.conda/envs/geo/lib/python3.9/site-packages/rasterio/windows.py:236\u001b[0m, in \u001b[0;36mintersection\u001b[0;34m(*windows)\u001b[0m\n\u001b[1;32m    223\u001b[0m \u001b[39m\"\"\"Innermost extent of window intersections.\u001b[39;00m\n\u001b[1;32m    224\u001b[0m \n\u001b[1;32m    225\u001b[0m \u001b[39mWill raise WindowError if windows do not intersect.\u001b[39;00m\n\u001b[0;32m   (...)\u001b[0m\n\u001b[1;32m    234\u001b[0m \u001b[39mWindow\u001b[39;00m\n\u001b[1;32m    235\u001b[0m \u001b[39m\"\"\"\u001b[39;00m\n\u001b[0;32m--> 236\u001b[0m \u001b[39mreturn\u001b[39;00m functools\u001b[39m.\u001b[39;49mreduce(_intersection, windows)\n",
      "File \u001b[0;32m~/.conda/envs/geo/lib/python3.9/site-packages/rasterio/windows.py:254\u001b[0m, in \u001b[0;36m_intersection\u001b[0;34m(w1, w2)\u001b[0m\n\u001b[1;32m    253\u001b[0m \u001b[39melse\u001b[39;00m:\n\u001b[0;32m--> 254\u001b[0m     \u001b[39mraise\u001b[39;00m WindowError(\u001b[39mf\u001b[39m\u001b[39m\"\u001b[39m\u001b[39mIntersection is empty \u001b[39m\u001b[39m{\u001b[39;00mw1\u001b[39m}\u001b[39;00m\u001b[39m \u001b[39m\u001b[39m{\u001b[39;00mw2\u001b[39m}\u001b[39;00m\u001b[39m\"\u001b[39m)\n",
      "\u001b[0;31mWindowError\u001b[0m: Intersection is empty Window(col_off=-2358120, row_off=1080461, width=2, height=2) Window(col_off=0, row_off=0, width=5000, height=5000)",
      "\nDuring handling of the above exception, another exception occurred:\n",
      "\u001b[0;31mValueError\u001b[0m                                Traceback (most recent call last)",
      "Cell \u001b[0;32mIn [7], line 1\u001b[0m\n\u001b[0;32m----> 1\u001b[0m leafmap\u001b[39m.\u001b[39;49mclip_image(dem, mask, output)\n",
      "File \u001b[0;32m/media/hdd/Dropbox/git/leafmap/leafmap/common.py:5440\u001b[0m, in \u001b[0;36mclip_image\u001b[0;34m(image, mask, output, to_cog)\u001b[0m\n\u001b[1;32m   5437\u001b[0m     shapes \u001b[39m=\u001b[39m [feature[\u001b[39m\"\u001b[39m\u001b[39mgeometry\u001b[39m\u001b[39m\"\u001b[39m] \u001b[39mfor\u001b[39;00m feature \u001b[39min\u001b[39;00m shapefile]\n\u001b[1;32m   5439\u001b[0m \u001b[39mwith\u001b[39;00m rasterio\u001b[39m.\u001b[39mopen(image) \u001b[39mas\u001b[39;00m src:\n\u001b[0;32m-> 5440\u001b[0m     out_image, out_transform \u001b[39m=\u001b[39m rasterio\u001b[39m.\u001b[39;49mmask\u001b[39m.\u001b[39;49mmask(src, shapes, crop\u001b[39m=\u001b[39;49m\u001b[39mTrue\u001b[39;49;00m)\n\u001b[1;32m   5441\u001b[0m     out_meta \u001b[39m=\u001b[39m src\u001b[39m.\u001b[39mmeta\n\u001b[1;32m   5443\u001b[0m out_meta\u001b[39m.\u001b[39mupdate(\n\u001b[1;32m   5444\u001b[0m     {\n\u001b[1;32m   5445\u001b[0m         \u001b[39m\"\u001b[39m\u001b[39mdriver\u001b[39m\u001b[39m\"\u001b[39m: \u001b[39m\"\u001b[39m\u001b[39mGTiff\u001b[39m\u001b[39m\"\u001b[39m,\n\u001b[0;32m   (...)\u001b[0m\n\u001b[1;32m   5449\u001b[0m     }\n\u001b[1;32m   5450\u001b[0m )\n",
      "File \u001b[0;32m~/.conda/envs/geo/lib/python3.9/site-packages/rasterio/mask.py:178\u001b[0m, in \u001b[0;36mmask\u001b[0;34m(dataset, shapes, all_touched, invert, nodata, filled, crop, pad, pad_width, indexes)\u001b[0m\n\u001b[1;32m    175\u001b[0m     \u001b[39melse\u001b[39;00m:\n\u001b[1;32m    176\u001b[0m         nodata \u001b[39m=\u001b[39m \u001b[39m0\u001b[39m\n\u001b[0;32m--> 178\u001b[0m shape_mask, transform, window \u001b[39m=\u001b[39m raster_geometry_mask(\n\u001b[1;32m    179\u001b[0m     dataset, shapes, all_touched\u001b[39m=\u001b[39;49mall_touched, invert\u001b[39m=\u001b[39;49minvert, crop\u001b[39m=\u001b[39;49mcrop,\n\u001b[1;32m    180\u001b[0m     pad\u001b[39m=\u001b[39;49mpad, pad_width\u001b[39m=\u001b[39;49mpad_width)\n\u001b[1;32m    182\u001b[0m \u001b[39mif\u001b[39;00m indexes \u001b[39mis\u001b[39;00m \u001b[39mNone\u001b[39;00m:\n\u001b[1;32m    183\u001b[0m     out_shape \u001b[39m=\u001b[39m (dataset\u001b[39m.\u001b[39mcount, ) \u001b[39m+\u001b[39m shape_mask\u001b[39m.\u001b[39mshape\n",
      "File \u001b[0;32m~/.conda/envs/geo/lib/python3.9/site-packages/rasterio/mask.py:86\u001b[0m, in \u001b[0;36mraster_geometry_mask\u001b[0;34m(dataset, shapes, all_touched, invert, crop, pad, pad_width)\u001b[0m\n\u001b[1;32m     82\u001b[0m \u001b[39mexcept\u001b[39;00m WindowError:\n\u001b[1;32m     83\u001b[0m     \u001b[39m# If shapes do not overlap raster, raise Exception or UserWarning\u001b[39;00m\n\u001b[1;32m     84\u001b[0m     \u001b[39m# depending on value of crop\u001b[39;00m\n\u001b[1;32m     85\u001b[0m     \u001b[39mif\u001b[39;00m crop:\n\u001b[0;32m---> 86\u001b[0m         \u001b[39mraise\u001b[39;00m \u001b[39mValueError\u001b[39;00m(\u001b[39m'\u001b[39m\u001b[39mInput shapes do not overlap raster.\u001b[39m\u001b[39m'\u001b[39m)\n\u001b[1;32m     87\u001b[0m     \u001b[39melse\u001b[39;00m:\n\u001b[1;32m     88\u001b[0m         warnings\u001b[39m.\u001b[39mwarn(\u001b[39m'\u001b[39m\u001b[39mshapes are outside bounds of raster. \u001b[39m\u001b[39m'\u001b[39m\n\u001b[1;32m     89\u001b[0m                       \u001b[39m'\u001b[39m\u001b[39mAre they in different coordinate reference systems?\u001b[39m\u001b[39m'\u001b[39m)\n",
      "\u001b[0;31mValueError\u001b[0m: Input shapes do not overlap raster."
     ]
    }
   ],
   "source": [
    "leafmap.clip_image(dem, mask, output)"
   ]
  },
  {
   "cell_type": "markdown",
   "metadata": {},
   "source": [
    "Add the clipped image to the map."
   ]
  },
  {
   "cell_type": "code",
   "execution_count": null,
   "metadata": {},
   "outputs": [],
   "source": [
    "m.add_raster(output, palette='gist_earth', layer_name=\"Clip Image\")"
   ]
  }
 ],
 "metadata": {
  "hide_input": false,
  "kernelspec": {
   "display_name": "Python 3.9.13 ('geo')",
   "language": "python",
   "name": "python3"
  },
  "language_info": {
   "codemirror_mode": {
    "name": "ipython",
    "version": 3
   },
   "file_extension": ".py",
   "mimetype": "text/x-python",
   "name": "python",
   "nbconvert_exporter": "python",
   "pygments_lexer": "ipython3",
   "version": "3.9.13"
  },
  "toc": {
   "base_numbering": 1,
   "nav_menu": {},
   "number_sections": true,
   "sideBar": true,
   "skip_h1_title": false,
   "title_cell": "Table of Contents",
   "title_sidebar": "Contents",
   "toc_cell": false,
   "toc_position": {},
   "toc_section_display": true,
   "toc_window_display": false
  },
  "varInspector": {
   "cols": {
    "lenName": 16,
    "lenType": 16,
    "lenVar": 40
   },
   "kernels_config": {
    "python": {
     "delete_cmd_postfix": "",
     "delete_cmd_prefix": "del ",
     "library": "var_list.py",
     "varRefreshCmd": "print(var_dic_list())"
    },
    "r": {
     "delete_cmd_postfix": ") ",
     "delete_cmd_prefix": "rm(",
     "library": "var_list.r",
     "varRefreshCmd": "cat(var_dic_list()) "
    }
   },
   "types_to_exclude": [
    "module",
    "function",
    "builtin_function_or_method",
    "instance",
    "_Feature"
   ],
   "window_display": false
  },
  "vscode": {
   "interpreter": {
    "hash": "31f05ea183a4718249d13ada7f166c6bdba1d00716247af5c11c23af8d5923f1"
   }
  }
 },
 "nbformat": 4,
 "nbformat_minor": 4
}
