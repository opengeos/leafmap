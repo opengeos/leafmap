{
 "cells": [
  {
   "cell_type": "markdown",
   "id": "66bdaeb7-1659-450d-a6f6-3458cbdd5372",
   "metadata": {},
   "source": [
    "[![image](https://colab.research.google.com/assets/colab-badge.svg)](https://githubtocolab.com/giswqs/leafmap/blob/master/examples/notebooks/55_lidar.ipynb)\n",
    "[![image](https://mybinder.org/badge_logo.svg)](https://gishub.org/leafmap-binder)\n",
    "\n",
    "**LiDAR data analysis and visualization with whitebox and leafmap**\n",
    "\n",
    "Create a new conda env to install required packages:\n",
    "\n",
    "```bash\n",
    "conda create -n geo python\n",
    "conda activate geo\n",
    "conda install -c conda-forge mamba\n",
    "mamba install -c conda-forge pygis\n",
    "pip install laspy[lazrs]\n",
    "```\n",
    "\n",
    "Uncomment the following line to install packages in Google Colab."
   ]
  },
  {
   "cell_type": "code",
   "execution_count": null,
   "id": "3fdef45a-be68-4935-b32b-4d5a26bbc12b",
   "metadata": {},
   "outputs": [],
   "source": [
    "# !pip install leafmap laspy[lazrs]"
   ]
  },
  {
   "cell_type": "markdown",
   "id": "0317c0b6-cfd3-47dd-a92d-0c774e07f6a9",
   "metadata": {},
   "source": [
    "## Import libraries"
   ]
  },
  {
   "cell_type": "code",
   "execution_count": null,
   "id": "47e1b509-2e3b-4239-833e-d9d31d5d45d2",
   "metadata": {},
   "outputs": [],
   "source": [
    "import os\n",
    "import leafmap\n",
    "import whitebox"
   ]
  },
  {
   "cell_type": "markdown",
   "id": "683e15eb-fb68-4df7-aab6-bd0e69fa9c96",
   "metadata": {},
   "source": [
    "## Set up whitebox"
   ]
  },
  {
   "cell_type": "code",
   "execution_count": null,
   "id": "8d0afb53-8112-4151-9e67-56c9b6b4b9bc",
   "metadata": {},
   "outputs": [],
   "source": [
    "wbt = whitebox.WhiteboxTools()\n",
    "wbt.set_working_dir(os.getcwd())\n",
    "wbt.set_verbose_mode(False)"
   ]
  },
  {
   "cell_type": "markdown",
   "id": "418201a7-2c09-447d-9337-a426efd7e3e3",
   "metadata": {},
   "source": [
    "## Download sample data"
   ]
  },
  {
   "cell_type": "code",
   "execution_count": null,
   "id": "8736398d-74c3-44ed-a3ed-b50d6ab0732c",
   "metadata": {},
   "outputs": [],
   "source": [
    "url = 'https://github.com/giswqs/data/raw/main/lidar/madison.laz'\n",
    "if not os.path.exists('madison.laz'):\n",
    "    leafmap.download_file(url)"
   ]
  },
  {
   "cell_type": "markdown",
   "id": "de3c2039-0748-4daf-9393-03299bdc3ab9",
   "metadata": {},
   "source": [
    "## Read LAS/LAZ data"
   ]
  },
  {
   "cell_type": "code",
   "execution_count": null,
   "id": "3148acad-4435-405e-94f0-46ba587ed2d5",
   "metadata": {},
   "outputs": [],
   "source": [
    "laz = leafmap.read_lidar('madison.laz')"
   ]
  },
  {
   "cell_type": "code",
   "execution_count": null,
   "id": "2793f23f-73ca-48e2-be7f-a6948e1d8a1f",
   "metadata": {},
   "outputs": [],
   "source": [
    "laz"
   ]
  },
  {
   "cell_type": "code",
   "execution_count": null,
   "id": "d9d6dfbd-f241-442b-a171-92847978bb18",
   "metadata": {},
   "outputs": [],
   "source": [
    "str(laz.header.version)"
   ]
  },
  {
   "cell_type": "markdown",
   "id": "94b648e1-fbd9-46f1-a8a1-c07af23d0e03",
   "metadata": {},
   "source": [
    "## Upgrade file version"
   ]
  },
  {
   "cell_type": "code",
   "execution_count": null,
   "id": "de182d7b-b3dd-4353-80ce-71a2842047b2",
   "metadata": {},
   "outputs": [],
   "source": [
    "las = leafmap.convert_lidar(laz, file_version='1.4')"
   ]
  },
  {
   "cell_type": "code",
   "execution_count": null,
   "id": "7d1929d1-9132-47b9-98b4-e1c8bfd2ed2a",
   "metadata": {},
   "outputs": [],
   "source": [
    "str(las.header.version)"
   ]
  },
  {
   "cell_type": "markdown",
   "id": "178d0ea2-3323-41bc-a19a-0430c97270b9",
   "metadata": {},
   "source": [
    "## Write LAS data"
   ]
  },
  {
   "cell_type": "code",
   "execution_count": null,
   "id": "ae943bc9-cf40-4a3d-9750-ef5ca798b2a1",
   "metadata": {},
   "outputs": [],
   "source": [
    "leafmap.write_lidar(las, 'madison.las')"
   ]
  },
  {
   "cell_type": "markdown",
   "id": "d68597e6-f7a8-405e-95e6-ffe03369db99",
   "metadata": {
    "tags": []
   },
   "source": [
    "## Histogram analysis"
   ]
  },
  {
   "cell_type": "code",
   "execution_count": null,
   "id": "8580ce9d-d6c3-4551-b979-01d6cf5ab607",
   "metadata": {},
   "outputs": [],
   "source": [
    "wbt.lidar_histogram('madison.las', 'histogram.html')"
   ]
  },
  {
   "cell_type": "markdown",
   "id": "549ea610-f4a5-4543-9051-99355fe4eac1",
   "metadata": {},
   "source": [
    "## Visualize LiDAR data"
   ]
  },
  {
   "cell_type": "code",
   "execution_count": null,
   "id": "0fc12ac4-4108-4fdc-a108-6c3f5cdb5cf4",
   "metadata": {},
   "outputs": [],
   "source": [
    "leafmap.view_lidar('madison.las')"
   ]
  },
  {
   "cell_type": "markdown",
   "id": "34a250a3-7460-46a7-b1b7-0f0c743c324c",
   "metadata": {},
   "source": [
    "## Remove outliers"
   ]
  },
  {
   "cell_type": "code",
   "execution_count": null,
   "id": "3b33dba4-c4f4-425b-b8fb-e4257057cd08",
   "metadata": {},
   "outputs": [],
   "source": [
    "wbt.lidar_elevation_slice(\"madison.las\", \"madison_rm.las\", minz=0, maxz=450)"
   ]
  },
  {
   "cell_type": "markdown",
   "id": "05e7af13-fbb5-4d9f-af2d-d4e5db8e6ee9",
   "metadata": {},
   "source": [
    "## Visualize LiDAR data after removing outliers"
   ]
  },
  {
   "cell_type": "code",
   "execution_count": null,
   "id": "f5015f70-f52e-4472-b2de-60518555e37c",
   "metadata": {},
   "outputs": [],
   "source": [
    "leafmap.view_lidar('madison_rm.las', cmap='terrain')"
   ]
  },
  {
   "cell_type": "markdown",
   "id": "e7653163-da04-411a-96c6-1a4b79c0833b",
   "metadata": {},
   "source": [
    "## Create DSM"
   ]
  },
  {
   "cell_type": "code",
   "execution_count": null,
   "id": "eb677aaa-3174-4cf6-a6c8-3506ad3cb5e7",
   "metadata": {},
   "outputs": [],
   "source": [
    "wbt.lidar_digital_surface_model(\n",
    "    'madison_rm.las', 'dsm.tif', resolution=1.0, minz=0, maxz=450\n",
    ")"
   ]
  },
  {
   "cell_type": "code",
   "execution_count": null,
   "id": "6afe00bc-03e2-4931-b34d-e51ddd066288",
   "metadata": {
    "jp-MarkdownHeadingCollapsed": true,
    "tags": []
   },
   "outputs": [],
   "source": [
    "leafmap.add_crs(\"dsm.tif\", epsg=2255)"
   ]
  },
  {
   "cell_type": "markdown",
   "id": "438e24be-cf79-45b9-bdb6-4e87220b5ac4",
   "metadata": {},
   "source": [
    "## Visualize DSM"
   ]
  },
  {
   "cell_type": "code",
   "execution_count": null,
   "id": "d7072710-7805-4f3e-81ba-f724f889cb99",
   "metadata": {},
   "outputs": [],
   "source": [
    "m = leafmap.Map()\n",
    "m.add_raster('dsm.tif', palette='terrain', layer_name='DSM')\n",
    "m"
   ]
  },
  {
   "cell_type": "markdown",
   "id": "cdc86417-e3f2-4132-a10d-9cf20098a042",
   "metadata": {},
   "source": [
    "## Create DEM"
   ]
  },
  {
   "cell_type": "code",
   "execution_count": null,
   "id": "afe1053d-006c-4f57-bb5e-fab9b1213175",
   "metadata": {},
   "outputs": [],
   "source": [
    "wbt.remove_off_terrain_objects('dsm.tif', 'dem.tif', filter=25, slope=15.0)"
   ]
  },
  {
   "cell_type": "markdown",
   "id": "4d156c5e-bbd2-48d9-b99a-230ead78789d",
   "metadata": {},
   "source": [
    "## Visualize DEM"
   ]
  },
  {
   "cell_type": "code",
   "execution_count": null,
   "id": "500d79ce-5822-42e3-bfc4-22be40fd62a8",
   "metadata": {},
   "outputs": [],
   "source": [
    "m.add_raster('dem.tif', palette='terrain', layer_name='DEM')\n",
    "m"
   ]
  },
  {
   "cell_type": "markdown",
   "id": "5801e12d-72c5-4d75-a404-4b0dd4eae6fe",
   "metadata": {},
   "source": [
    "## Create CHM"
   ]
  },
  {
   "cell_type": "code",
   "execution_count": null,
   "id": "20baf3cd-d45a-401e-bc3c-a6fa7a02b6bc",
   "metadata": {},
   "outputs": [],
   "source": [
    "chm = wbt.subtract('dsm.tif', 'dem.tif', 'chm.tif')"
   ]
  },
  {
   "cell_type": "code",
   "execution_count": null,
   "id": "6067e4a9-bf04-41bd-9826-061a6edc73ac",
   "metadata": {},
   "outputs": [],
   "source": [
    "m.add_raster('chm.tif', palette='gist_earth', layer_name='CHM')\n",
    "m"
   ]
  }
 ],
 "metadata": {
  "kernelspec": {
   "display_name": "Python 3.9.12 ('geo')",
   "language": "python",
   "name": "python3"
  },
  "language_info": {
   "codemirror_mode": {
    "name": "ipython",
    "version": 3
   },
   "file_extension": ".py",
   "mimetype": "text/x-python",
   "name": "python",
   "nbconvert_exporter": "python",
   "pygments_lexer": "ipython3",
   "version": "3.9.12"
  },
  "vscode": {
   "interpreter": {
    "hash": "31f05ea183a4718249d13ada7f166c6bdba1d00716247af5c11c23af8d5923f1"
   }
  }
 },
 "nbformat": 4,
 "nbformat_minor": 5
}
