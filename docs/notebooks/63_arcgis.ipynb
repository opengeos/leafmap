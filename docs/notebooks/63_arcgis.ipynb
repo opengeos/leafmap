{
 "cells": [
  {
   "cell_type": "markdown",
   "id": "c797223f",
   "metadata": {},
   "source": [
    "[![image](https://jupyterlite.rtfd.io/en/latest/_static/badge.svg)](https://demo.leafmap.org/lab/index.html?path=notebooks/63_arcgis.ipynb)\n",
    "[![image](https://colab.research.google.com/assets/colab-badge.svg)](https://githubtocolab.com/giswqs/leafmap/blob/master/examples/notebooks/63_arcgis.ipynb)\n",
    "[![image](https://mybinder.org/badge_logo.svg)](https://gishub.org/leafmap-binder)\n",
    "\n",
    "Uncomment the following line to install [leafmap](https://leafmap.org) if needed."
   ]
  },
  {
   "cell_type": "code",
   "execution_count": null,
   "id": "6f6ba263",
   "metadata": {},
   "outputs": [],
   "source": [
    "# !pip install -U leafmap"
   ]
  },
  {
   "cell_type": "code",
   "execution_count": null,
   "id": "b1142296",
   "metadata": {},
   "outputs": [],
   "source": [
    "import leafmap"
   ]
  },
  {
   "cell_type": "markdown",
   "id": "16608e0a",
   "metadata": {},
   "source": [
    "Add basemap."
   ]
  },
  {
   "cell_type": "code",
   "execution_count": null,
   "id": "2c871deb",
   "metadata": {},
   "outputs": [],
   "source": [
    "m = leafmap.Map()\n",
    "m.add_basemap('TERRAIN')\n",
    "m"
   ]
  },
  {
   "cell_type": "markdown",
   "id": "e856b660-0e78-4124-81f0-b58ee3f419cd",
   "metadata": {},
   "source": [
    "Add COG layer."
   ]
  },
  {
   "cell_type": "code",
   "execution_count": null,
   "id": "ed73d7ba-be6e-4dc6-a02a-c47994557653",
   "metadata": {},
   "outputs": [],
   "source": [
    "url = 'https://opendata.digitalglobe.com/events/california-fire-2020/pre-event/2018-02-16/pine-gulch-fire20/1030010076004E00.tif'"
   ]
  },
  {
   "cell_type": "code",
   "execution_count": null,
   "id": "e12495f7-2efe-42ab-a1d7-947b0e82770b",
   "metadata": {},
   "outputs": [],
   "source": [
    "m.add_cog_layer(url, name=\"COG\")"
   ]
  },
  {
   "cell_type": "markdown",
   "id": "73639d8f-a208-4c84-8102-3955b4c99c5a",
   "metadata": {},
   "source": [
    "Add STAC layer."
   ]
  },
  {
   "cell_type": "code",
   "execution_count": null,
   "id": "ee23a079-23fc-4327-9c77-093ece39fcd8",
   "metadata": {},
   "outputs": [],
   "source": [
    "url = 'https://canada-spot-ortho.s3.amazonaws.com/canada_spot_orthoimages/canada_spot5_orthoimages/S5_2007/S5_11055_6057_20070622/S5_11055_6057_20070622.json'"
   ]
  },
  {
   "cell_type": "code",
   "execution_count": null,
   "id": "0355979f-74fc-4b85-83db-cbe7656f65be",
   "metadata": {},
   "outputs": [],
   "source": [
    "m.add_stac_layer(url, bands=['B3', 'B2', 'B1'], name='STAC')"
   ]
  },
  {
   "cell_type": "markdown",
   "id": "72479237-6371-4382-b696-2d6a19f4a570",
   "metadata": {},
   "source": [
    "![](https://i.imgur.com/GbVx3vV.png)"
   ]
  }
 ],
 "metadata": {
  "kernelspec": {
   "display_name": "Python 3",
   "language": "python",
   "name": "python3"
  },
  "language_info": {
   "codemirror_mode": {
    "name": "ipython",
    "version": 3
   },
   "file_extension": ".py",
   "mimetype": "text/x-python",
   "name": "python",
   "nbconvert_exporter": "python",
   "pygments_lexer": "ipython3",
   "version": "3.9.15"
  }
 },
 "nbformat": 4,
 "nbformat_minor": 5
}
