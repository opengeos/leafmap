{
 "cells": [
  {
   "cell_type": "markdown",
   "metadata": {},
   "source": [
    "[![image](https://jupyterlite.rtfd.io/en/latest/_static/badge.svg)](https://demo.leafmap.org/lab/index.html?path=notebooks/86_add_markers.ipynb)\n",
    "[![image](https://studiolab.sagemaker.aws/studiolab.svg)](https://studiolab.sagemaker.aws/import/github/opengeos/leafmap/blob/master/examples/notebooks/86_add_markers.ipynb)\n",
    "[![image](https://img.shields.io/badge/Open-Planetary%20Computer-black?style=flat&logo=microsoft)](https://pccompute.westeurope.cloudapp.azure.com/compute/hub/user-redirect/git-pull?repo=https://github.com/opengeos/leafmap&urlpath=lab/tree/leafmap/examples/notebooks/86_add_markers.ipynb&branch=master)\n",
    "[![image](https://colab.research.google.com/assets/colab-badge.svg)](https://githubtocolab.com/opengeos/leafmap/blob/master/examples/notebooks/01_leafmap_intro.ipynb)\n",
    "[![image](https://mybinder.org/badge_logo.svg)](https://mybinder.org/v2/gh/opengeos/leafmap/HEAD)\n",
    "\n",
    "**Adding markers to the map**\n",
    "\n",
    "Uncomment the following line to install [leafmap](https://leafmap.org) if needed."
   ]
  },
  {
   "cell_type": "code",
   "execution_count": null,
   "metadata": {},
   "outputs": [],
   "source": [
    "# %pip install -U \"leafmap[vector]\""
   ]
  },
  {
   "cell_type": "code",
   "execution_count": null,
   "metadata": {},
   "outputs": [],
   "source": [
    "from leafmap import leafmap"
   ]
  },
  {
   "cell_type": "markdown",
   "id": "ab2c36d3",
   "metadata": {},
   "source": [
    "Create an interactive map."
   ]
  },
  {
   "cell_type": "code",
   "execution_count": null,
   "id": "e2bddc9e",
   "metadata": {},
   "outputs": [],
   "source": [
    "m = leafmap.Map()\n",
    "m"
   ]
  },
  {
   "cell_type": "markdown",
   "id": "f28b8c37",
   "metadata": {},
   "source": [
    "Add a simple marker to the map."
   ]
  },
  {
   "cell_type": "code",
   "execution_count": null,
   "id": "0e111639",
   "metadata": {},
   "outputs": [],
   "source": [
    "m.add_markers(markers=[40, -100], shape='marker')"
   ]
  },
  {
   "cell_type": "markdown",
   "id": "176c9556",
   "metadata": {},
   "source": [
    "Add circle markers to the map."
   ]
  },
  {
   "cell_type": "code",
   "execution_count": null,
   "id": "755fe92c",
   "metadata": {},
   "outputs": [],
   "source": [
    "m.add_markers(markers=[[40, -100], [35, -110]], shape='circle')"
   ]
  },
  {
   "cell_type": "markdown",
   "id": "8bb1a429",
   "metadata": {},
   "source": [
    "Customize circle markers."
   ]
  },
  {
   "cell_type": "code",
   "execution_count": null,
   "id": "3af03ccc",
   "metadata": {},
   "outputs": [],
   "source": [
    "m.add_markers(\n",
    "    markers=[[40, -100], [35, -110]],\n",
    "    shape='circle',\n",
    "    radius=20,\n",
    "    color='red',\n",
    "    fill_color='#3388ff',\n",
    "    fill_opacity=0.5,\n",
    ")"
   ]
  },
  {
   "cell_type": "markdown",
   "id": "df7d2463",
   "metadata": {},
   "source": [
    "Add country polygons to the map."
   ]
  },
  {
   "cell_type": "code",
   "execution_count": null,
   "id": "a69a8c0b",
   "metadata": {},
   "outputs": [],
   "source": [
    "m = leafmap.Map()\n",
    "countries = 'https://open.gishub.org/data/world/countries.geojson'\n",
    "m.add_geojson(countries, layer_name='Countries', info_mode=None)\n",
    "m"
   ]
  },
  {
   "cell_type": "markdown",
   "id": "5f735fce",
   "metadata": {},
   "source": [
    "Add circle markers with popups to the map."
   ]
  },
  {
   "cell_type": "code",
   "execution_count": null,
   "id": "1debaf47",
   "metadata": {},
   "outputs": [],
   "source": [
    "url = \"https://open.gishub.org/data/world/world_cities.geojson\"\n",
    "m.add_data(url, column=\"population\", cmap='Blues', marker_radius=5, layer_name=\"Cities\")"
   ]
  },
  {
   "cell_type": "markdown",
   "id": "0f85e945",
   "metadata": {},
   "source": [
    "![](https://i.imgur.com/ZGwInmO.png)"
   ]
  }
 ],
 "metadata": {
  "kernelspec": {
   "display_name": "Python 3",
   "language": "python",
   "name": "python3"
  },
  "language_info": {
   "codemirror_mode": {
    "name": "ipython",
    "version": 3
   },
   "file_extension": ".py",
   "mimetype": "text/x-python",
   "name": "python",
   "nbconvert_exporter": "python",
   "pygments_lexer": "ipython3",
   "version": "3.11.5"
  }
 },
 "nbformat": 4,
 "nbformat_minor": 5
}
