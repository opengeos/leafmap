{
 "cells": [
  {
   "cell_type": "markdown",
   "id": "3a2e4dd2",
   "metadata": {},
   "source": [
    "[![image](https://jupyterlite.rtfd.io/en/latest/_static/badge.svg)](https://demo.leafmap.org/lab/index.html?path=notebooks/03_cog_stac.ipynb)\n",
    "[![image](https://colab.research.google.com/assets/colab-badge.svg)](https://githubtocolab.com/giswqs/leafmap/blob/master/examples/notebooks/03_cog_stac.ipynb)\n",
    "[![image](https://mybinder.org/badge_logo.svg)](https://gishub.org/leafmap-binder)\n",
    "\n",
    "**Using Cloud Optimized GeoTIFF (COG) and SpatioTemporal Asset Catalog (STAC)**\n",
    "\n",
    "Uncomment the following line to install [leafmap](https://leafmap.org) if needed."
   ]
  },
  {
   "cell_type": "code",
   "execution_count": null,
   "id": "9218360c",
   "metadata": {},
   "outputs": [],
   "source": [
    "# !pip install leafmap"
   ]
  },
  {
   "cell_type": "markdown",
   "id": "22698f71",
   "metadata": {},
   "source": [
    "**Working with Cloud Optimized GeoTIFF (COG)**\n",
    "\n",
    "A Cloud Optimized GeoTIFF (COG) is a regular GeoTIFF file, aimed at being hosted on a HTTP file server, with an internal organization that enables more efficient workflows on the cloud. It does this by leveraging the ability of clients issuing HTTP GET range requests to ask for just the parts of a file they need. \n",
    "\n",
    "More information about COG can be found at <https://www.cogeo.org/in-depth.html>\n",
    "\n",
    "Some publicly available Cloud Optimized GeoTIFFs:\n",
    "\n",
    "* https://stacindex.org/\n",
    "* https://cloud.google.com/storage/docs/public-datasets/landsat\n",
    "* https://www.digitalglobe.com/ecosystem/open-data\n",
    "* https://earthexplorer.usgs.gov/\n",
    "\n",
    "For this demo, we will use data from https://www.maxar.com/open-data/california-colorado-fires for mapping California and Colorado fires. A List of COGs can be found [here](https://github.com/giswqs/leafmap/blob/master/examples/data/cog_files.txt)."
   ]
  },
  {
   "cell_type": "markdown",
   "id": "7a59dd84",
   "metadata": {},
   "source": [
    "![](https://i.imgur.com/pE4mxwf.gif)"
   ]
  },
  {
   "cell_type": "code",
   "execution_count": null,
   "id": "897393e7",
   "metadata": {},
   "outputs": [],
   "source": [
    "import os\n",
    "import leafmap"
   ]
  },
  {
   "cell_type": "code",
   "execution_count": null,
   "id": "f0c45299-4ac0-4259-84af-b517617a328c",
   "metadata": {},
   "outputs": [],
   "source": [
    "# Use the TiTiler demo endpoint. Replace this if needed.\n",
    "os.environ['TITILER_ENDPOINT'] = 'https://titiler.xyz'"
   ]
  },
  {
   "cell_type": "markdown",
   "id": "0c5f9dd4",
   "metadata": {},
   "source": [
    "Create an interactive map."
   ]
  },
  {
   "cell_type": "code",
   "execution_count": null,
   "id": "f0ad1525",
   "metadata": {},
   "outputs": [],
   "source": [
    "Map = leafmap.Map()"
   ]
  },
  {
   "cell_type": "code",
   "execution_count": null,
   "id": "cb168b55",
   "metadata": {},
   "outputs": [],
   "source": [
    "url = 'https://opendata.digitalglobe.com/events/california-fire-2020/pre-event/2018-02-16/pine-gulch-fire20/1030010076004E00.tif'"
   ]
  },
  {
   "cell_type": "markdown",
   "id": "6a3901ce",
   "metadata": {},
   "source": [
    "Retrieve the bounding box coordinates of the COG file."
   ]
  },
  {
   "cell_type": "code",
   "execution_count": null,
   "id": "0c66bcd6",
   "metadata": {},
   "outputs": [],
   "source": [
    "leafmap.cog_bounds(url)"
   ]
  },
  {
   "cell_type": "markdown",
   "id": "207dfc9c",
   "metadata": {},
   "source": [
    "Retrieve the centroid coordinates of the COG file."
   ]
  },
  {
   "cell_type": "code",
   "execution_count": null,
   "id": "df1ff060",
   "metadata": {},
   "outputs": [],
   "source": [
    "leafmap.cog_center(url)"
   ]
  },
  {
   "cell_type": "markdown",
   "id": "bce9085d",
   "metadata": {},
   "source": [
    "Retrieve the band names of the COG file."
   ]
  },
  {
   "cell_type": "code",
   "execution_count": null,
   "id": "91e86b68",
   "metadata": {},
   "outputs": [],
   "source": [
    "leafmap.cog_bands(url)"
   ]
  },
  {
   "cell_type": "markdown",
   "id": "977e02ed",
   "metadata": {},
   "source": [
    "Retrieves the tile layer URL of the COG file."
   ]
  },
  {
   "cell_type": "code",
   "execution_count": null,
   "id": "6a2aa779",
   "metadata": {},
   "outputs": [],
   "source": [
    "leafmap.cog_tile(url)"
   ]
  },
  {
   "cell_type": "markdown",
   "id": "4cbeb1e1",
   "metadata": {},
   "source": [
    "Add a COG layer to the map."
   ]
  },
  {
   "cell_type": "code",
   "execution_count": null,
   "id": "6b57f90d",
   "metadata": {},
   "outputs": [],
   "source": [
    "Map.add_cog_layer(url, name=\"Fire (pre-event)\")"
   ]
  },
  {
   "cell_type": "code",
   "execution_count": null,
   "id": "2aca0768",
   "metadata": {},
   "outputs": [],
   "source": [
    "url2 = 'https://opendata.digitalglobe.com/events/california-fire-2020/post-event/2020-08-14/pine-gulch-fire20/10300100AAC8DD00.tif'"
   ]
  },
  {
   "cell_type": "code",
   "execution_count": null,
   "id": "fd260122",
   "metadata": {},
   "outputs": [],
   "source": [
    "Map.add_cog_layer(url2, name=\"Fire (post-event)\")"
   ]
  },
  {
   "cell_type": "code",
   "execution_count": null,
   "id": "60821998",
   "metadata": {},
   "outputs": [],
   "source": [
    "Map"
   ]
  },
  {
   "cell_type": "markdown",
   "id": "c1915135",
   "metadata": {},
   "source": [
    "**Working with  SpatioTemporal Asset Catalog (STAC)**\n",
    "\n",
    "The SpatioTemporal Asset Catalog (STAC) specification provides a common language to describe a range of geospatial information, so it can more easily be indexed and discovered. A 'spatiotemporal asset' is any file that represents information about the earth captured in a certain space and time. The initial focus is primarily remotely-sensed imagery (from satellites, but also planes, drones, balloons, etc), but the core is designed to be extensible to SAR, full motion video, point clouds, hyperspectral, LiDAR and derived data like NDVI, Digital Elevation Models, mosaics, etc. More information about STAC can be found at https://stacspec.org/\n",
    "\n",
    "Some publicly available SpatioTemporal Asset Catalog (STAC):\n",
    "\n",
    "* https://stacindex.org\n",
    "\n",
    "For this demo, we will use STAC assets from https://stacindex.org/catalogs/spot-orthoimages-canada-2005#/?t=catalogs"
   ]
  },
  {
   "cell_type": "markdown",
   "id": "275eff01",
   "metadata": {},
   "source": [
    "Create an interactive map."
   ]
  },
  {
   "cell_type": "code",
   "execution_count": null,
   "id": "2d10d5b5",
   "metadata": {},
   "outputs": [],
   "source": [
    "Map = leafmap.Map()"
   ]
  },
  {
   "cell_type": "code",
   "execution_count": null,
   "id": "a511a712",
   "metadata": {},
   "outputs": [],
   "source": [
    "url = 'https://canada-spot-ortho.s3.amazonaws.com/canada_spot_orthoimages/canada_spot5_orthoimages/S5_2007/S5_11055_6057_20070622/S5_11055_6057_20070622.json'"
   ]
  },
  {
   "cell_type": "markdown",
   "id": "f59aebce",
   "metadata": {},
   "source": [
    "Retrieve the bounding box coordinates of the STAC file."
   ]
  },
  {
   "cell_type": "code",
   "execution_count": null,
   "id": "a32c6a56",
   "metadata": {},
   "outputs": [],
   "source": [
    "leafmap.stac_bounds(url)"
   ]
  },
  {
   "cell_type": "markdown",
   "id": "099be5d1",
   "metadata": {},
   "source": [
    "Retrieve the centroid coordinates of the STAC file."
   ]
  },
  {
   "cell_type": "code",
   "execution_count": null,
   "id": "d2ab7fa5",
   "metadata": {},
   "outputs": [],
   "source": [
    "leafmap.stac_center(url)"
   ]
  },
  {
   "cell_type": "markdown",
   "id": "e11a1ff5",
   "metadata": {},
   "source": [
    "Retrieve the band names of the STAC file."
   ]
  },
  {
   "cell_type": "code",
   "execution_count": null,
   "id": "2ec3472d",
   "metadata": {},
   "outputs": [],
   "source": [
    "leafmap.stac_bands(url)"
   ]
  },
  {
   "cell_type": "markdown",
   "id": "59593a58",
   "metadata": {},
   "source": [
    "Retrieve the tile layer URL of the STAC file."
   ]
  },
  {
   "cell_type": "code",
   "execution_count": null,
   "id": "79704cef",
   "metadata": {},
   "outputs": [],
   "source": [
    "leafmap.stac_tile(url, bands=['B3', 'B2', 'B1'])"
   ]
  },
  {
   "cell_type": "markdown",
   "id": "ac2c24a0",
   "metadata": {},
   "source": [
    "Add a STAC layer to the map."
   ]
  },
  {
   "cell_type": "code",
   "execution_count": null,
   "id": "b10f4ba3",
   "metadata": {},
   "outputs": [],
   "source": [
    "Map.add_stac_layer(url, bands=['pan'], name='Panchromatic')"
   ]
  },
  {
   "cell_type": "code",
   "execution_count": null,
   "id": "50885fec",
   "metadata": {},
   "outputs": [],
   "source": [
    "Map.add_stac_layer(url, bands=['B3', 'B2', 'B1'], name='False color')"
   ]
  },
  {
   "cell_type": "code",
   "execution_count": null,
   "id": "e65ec17a",
   "metadata": {},
   "outputs": [],
   "source": [
    "Map"
   ]
  }
 ],
 "metadata": {
  "kernelspec": {
   "display_name": "Python 3",
   "language": "python",
   "name": "python3"
  },
  "language_info": {
   "codemirror_mode": {
    "name": "ipython",
    "version": 3
   },
   "file_extension": ".py",
   "mimetype": "text/x-python",
   "name": "python",
   "nbconvert_exporter": "python",
   "pygments_lexer": "ipython3",
   "version": "3.9.15"
  },
  "vscode": {
   "interpreter": {
    "hash": "31f05ea183a4718249d13ada7f166c6bdba1d00716247af5c11c23af8d5923f1"
   }
  }
 },
 "nbformat": 4,
 "nbformat_minor": 5
}
