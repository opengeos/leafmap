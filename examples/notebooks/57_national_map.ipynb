{
 "cells": [
  {
   "cell_type": "markdown",
   "metadata": {},
   "source": [
    "[![image](https://colab.research.google.com/assets/colab-badge.svg)](https://githubtocolab.com/giswqs/leafmap/blob/master/examples/notebooks/57_national_map.ipynb)\n",
    "[![image](https://mybinder.org/badge_logo.svg)](https://gishub.org/leafmap-binder)\n",
    "\n",
    "### Downloading various shapes from the National Map\n",
    "\n",
    "The national map (TNM) is a catalog of *topological* datasources maintained by the USGS. \n",
    "\n",
    "- It contains a wide range of dataformats (such as GeoTiff, LAZ, ...) and datasets.\n",
    "- It provides an endpoint that can be used to search for published datasets and files.\n",
    "- This API supports a wide range of searchable parameters (bounding box, polygon, dates, keyword, ...)\n",
    "- It returns detailed information regarding the properties of datasets, file,\n",
    "- as well as various download links (file, thumbnail, xml descriptions, ...).\n",
    "\n",
    "We've created a thin wrapper to expose this treasure trove. \n",
    "\n",
    "- For more details about TNM, see https://apps.nationalmap.gov/tnmaccess/#/\n",
    "- The same data is also downloable using https://apps.nationalmap.gov/downloader/"
   ]
  },
  {
   "cell_type": "code",
   "execution_count": 1,
   "metadata": {},
   "outputs": [],
   "source": [
    "import leafmap"
   ]
  },
  {
   "cell_type": "markdown",
   "metadata": {},
   "source": [
    "### Usage\n",
    "\n",
    "A class groups the functionalities together."
   ]
  },
  {
   "cell_type": "code",
   "execution_count": 2,
   "metadata": {},
   "outputs": [],
   "source": [
    "TNM = leafmap.The_national_map_USGS()"
   ]
  },
  {
   "cell_type": "markdown",
   "metadata": {},
   "source": [
    "### Datasets"
   ]
  },
  {
   "cell_type": "code",
   "execution_count": 3,
   "metadata": {},
   "outputs": [
    {
     "data": {
      "text/plain": [
       "{'Alaska IFSAR 5 meter DEM',\n",
       " 'Digital Elevation Model (DEM) 1 meter',\n",
       " 'Ifsar Digital Surface Model (DSM)',\n",
       " 'Ifsar Orthorectified Radar Image (ORI)',\n",
       " 'Lidar Point Cloud (LPC)',\n",
       " 'National Elevation Dataset (NED) 1 arc-second',\n",
       " 'National Elevation Dataset (NED) 1/3 arc-second',\n",
       " 'National Elevation Dataset (NED) 1/3 arc-second - Contours',\n",
       " 'National Elevation Dataset (NED) 1/9 arc-second',\n",
       " 'National Elevation Dataset (NED) Alaska 2 arc-second',\n",
       " 'National Hydrography Dataset (NHD) Best Resolution',\n",
       " 'National Hydrography Dataset Plus High Resolution (NHDPlus HR)',\n",
       " 'National Watershed Boundary Dataset (WBD)',\n",
       " 'Original Product Resolution (OPR) Digital Elevation Model (DEM)',\n",
       " 'Small-scale Datasets - Boundaries',\n",
       " 'Small-scale Datasets - Contours',\n",
       " 'Small-scale Datasets - Hydrography',\n",
       " 'Small-scale Datasets - Transportation',\n",
       " 'Topobathymetric Lidar DEM',\n",
       " 'Topobathymetric Lidar Point Cloud',\n",
       " 'US Topo Current',\n",
       " 'US Topo Historical'}"
      ]
     },
     "execution_count": 3,
     "metadata": {},
     "output_type": "execute_result"
    }
   ],
   "source": [
    "TNM.datasets"
   ]
  },
  {
   "cell_type": "markdown",
   "metadata": {},
   "source": [
    "### Formats\n",
    "\n",
    "Note that any format (f.e. 'All') is specific to one or more datasets."
   ]
  },
  {
   "cell_type": "code",
   "execution_count": 4,
   "metadata": {},
   "outputs": [
    {
     "data": {
      "text/plain": [
       "{'All',\n",
       " 'FileGDB',\n",
       " 'GeoPDF',\n",
       " 'GeoPackage',\n",
       " 'GeoTIFF',\n",
       " 'GeoTIFF, IMG',\n",
       " 'JPEG2000',\n",
       " 'LAS,LAZ',\n",
       " 'Shapefile',\n",
       " 'TIFF',\n",
       " 'TXT (pipes)'}"
      ]
     },
     "execution_count": 4,
     "metadata": {},
     "output_type": "execute_result"
    }
   ],
   "source": [
    "TNM.prodFormats"
   ]
  },
  {
   "cell_type": "markdown",
   "metadata": {},
   "source": [
    "### Looking for files"
   ]
  },
  {
   "cell_type": "code",
   "execution_count": 5,
   "metadata": {},
   "outputs": [
    {
     "data": {
      "text/plain": [
       "(dict_keys(['total', 'items', 'errors', 'messages', 'sciencebaseQuery', 'filteredOut']),\n",
       " 11190958)"
      ]
     },
     "execution_count": 5,
     "metadata": {},
     "output_type": "execute_result"
    }
   ],
   "source": [
    "TNM.find_details().keys(), TNM.find_details()['total']"
   ]
  },
  {
   "cell_type": "markdown",
   "metadata": {},
   "source": [
    "### A detail"
   ]
  },
  {
   "cell_type": "code",
   "execution_count": 6,
   "metadata": {},
   "outputs": [
    {
     "data": {
      "text/plain": [
       "{'title': '18TWK610820',\n",
       " 'moreInfo': 'Lidar (Light detection and ranging) discrete-return point cloud data are available in the American Society for Photogrammetry and Remote Sensing (ASPRS) LAS format. The LAS format is a standardized binary format for storing 3-dimensional point cloud data and point attributes along with header information and variable length records specific to the data. Millions of data points are stored as a 3-dimensional data cloud as a series of x (longitude), y (latitude) and z (elevation) points. A few older projects in this collection are in ASCII format. Please refer to http://www.asprs.org/Committee-General/LASer-LAS-File-Format-Exchange-Activities.html for additional information. This data set is a LAZ (compressed LAS) format file containing [...]',\n",
       " 'sourceId': '6338596ad34e900e86cdbfd3',\n",
       " 'sourceName': 'ScienceBase',\n",
       " 'sourceOriginId': None,\n",
       " 'sourceOriginName': 'gda',\n",
       " 'metaUrl': 'https://www.sciencebase.gov/catalog/item/6338596ad34e900e86cdbfd3',\n",
       " 'vendorMetaUrl': 'https://prd-tnm.s3.amazonaws.com/index.html?prefix=StagedProducts/Elevation/metadata/NJ_New_Jersey_SANDY_LiDAR_15/NJ_SdL5_2014',\n",
       " 'publicationDate': '2015-05-03',\n",
       " 'lastUpdated': '2022-10-01T09:14:53.711-06:00',\n",
       " 'dateCreated': '2022-10-01T09:14:50.910-06:00',\n",
       " 'sizeInBytes': 31830199,\n",
       " 'extent': 'Varies',\n",
       " 'format': 'LAZ',\n",
       " 'downloadURL': 'https://rockyweb.usgs.gov/vdelivery/Datasets/Staged/Elevation/LPC/Projects/USGS_Lidar_Point_Cloud_NJ_SdL5_2014_LAS_2015/laz/18TWK610820.laz',\n",
       " 'downloadURLRaster': None,\n",
       " 'previewGraphicURL': 'https://prd-tnm.s3.amazonaws.com/StagedProducts/Elevation/LPC/Projects/USGS_Lidar_Point_Cloud_NJ_SdL5_2014_LAS_2015/browse/18TWK610820.jpg',\n",
       " 'downloadLazURL': 'https://rockyweb.usgs.gov/vdelivery/Datasets/Staged/Elevation/LPC/Projects/USGS_Lidar_Point_Cloud_NJ_SdL5_2014_LAS_2015/laz/18TWK610820.laz',\n",
       " 'urls': {'LAZ': 'https://rockyweb.usgs.gov/vdelivery/Datasets/Staged/Elevation/LPC/Projects/USGS_Lidar_Point_Cloud_NJ_SdL5_2014_LAS_2015/laz/18TWK610820.laz'},\n",
       " 'datasets': [],\n",
       " 'boundingBox': {'minX': -74.2802466122605,\n",
       "  'maxX': -74.2624014212519,\n",
       "  'minY': 40.4863433374492,\n",
       "  'maxY': 40.4999672066248},\n",
       " 'bestFitIndex': 0.0,\n",
       " 'body': \"Lidar (Light detection and ranging) discrete-return point cloud data are available in the American Society for Photogrammetry and Remote Sensing (ASPRS) LAS format. The LAS format is a standardized binary format for storing 3-dimensional point cloud data and point attributes along with header information and variable length records specific to the data. Millions of data points are stored as a 3-dimensional data cloud as a series of x (longitude), y (latitude) and z (elevation) points. A few older projects in this collection are in ASCII format. Please refer to http://www.asprs.org/Committee-General/LASer-LAS-File-Format-Exchange-Activities.html for additional information. This data set is a LAZ (compressed LAS) format file containing lidar point cloud data. Compression to an LAZ file was done with the LAStools 'laszip' program and can be unzipped with the same free program (laszip.org).\",\n",
       " 'processingUrl': 'processingUrl',\n",
       " 'modificationInfo': '2022-10-01'}"
      ]
     },
     "execution_count": 6,
     "metadata": {},
     "output_type": "execute_result"
    }
   ],
   "source": [
    "TNM.find_details()['items'][0]"
   ]
  },
  {
   "cell_type": "markdown",
   "metadata": {},
   "source": [
    "### Using parameters"
   ]
  },
  {
   "cell_type": "code",
   "execution_count": 7,
   "metadata": {},
   "outputs": [
    {
     "data": {
      "text/plain": [
       "25"
      ]
     },
     "execution_count": 7,
     "metadata": {},
     "output_type": "execute_result"
    }
   ],
   "source": [
    "params = {\n",
    "    'q': 'National Elevation Dataset (NED) 1/3 arc-second',\n",
    "    'polyCode': '01010002',\n",
    "    'polyType': 'huc8',\n",
    "}\n",
    "\n",
    "TNM.find_details(**params)['total']"
   ]
  },
  {
   "cell_type": "code",
   "execution_count": 8,
   "metadata": {},
   "outputs": [
    {
     "data": {
      "text/plain": [
       "13837"
      ]
     },
     "execution_count": 8,
     "metadata": {},
     "output_type": "execute_result"
    }
   ],
   "source": [
    "params = {\n",
    "    'prodFormats': 'LAS,LAZ',\n",
    "    'datasets': 'Lidar Point Cloud (LPC)',\n",
    "    'polygon': [\n",
    "        (-104.94262695312236, 41.52867510196275),\n",
    "        (-102.83325195312291, 40.45065268246805),\n",
    "        (-104.94262695312236, 40.45065268246805),\n",
    "        (-104.94262695312236, 41.52867510196275),\n",
    "    ],\n",
    "}\n",
    "\n",
    "TNM.find_details(**params)['total']"
   ]
  },
  {
   "cell_type": "markdown",
   "metadata": {},
   "source": [
    "Available parameters"
   ]
  },
  {
   "cell_type": "code",
   "execution_count": 9,
   "metadata": {},
   "outputs": [
    {
     "name": "stdout",
     "output_type": "stream",
     "text": [
      "Help on method find_details in module leafmap.common:\n",
      "\n",
      "find_details(bbox: List[float] = None, polygon: List[Tuple[float, float]] = None, datasets: str = None, prodFormats: str = None, prodExtents: str = None, q: str = None, dateType: str = None, start: str = None, end: str = None, offset: int = 0, max: int = None, outputFormat: str = 'JSON', polyType: str = None, polyCode: str = None, extentQuery: int = None) -> Dict method of leafmap.common.The_national_map_USGS instance\n",
      "    Possible search parameters (kwargs) support by API\n",
      "    \n",
      "    Parameter               Values\n",
      "        Description\n",
      "    ---------------------------------------------------------------------------------------------------\n",
      "    bbox                    'minx, miny, maxx, maxy'\n",
      "        Geographic longitude/latitude values expressed in  decimal degrees in a comma-delimited list.\n",
      "    polygon                 '[x,y x,y x,y x,y x,y]'\n",
      "        Polygon, longitude/latitude values expressed in decimal degrees in a space-delimited list.\n",
      "    datasets                See: Datasets (Optional)\n",
      "        Dataset tag name (sbDatasetTag)\n",
      "        From https://apps.nationalmap.gov/tnmaccess/#/product\n",
      "    prodFormats             See: Product Formats (Optional)\n",
      "        Dataset-specific format\n",
      "    prodExtents             See: Product Extents (Optional)\n",
      "        Dataset-specific extent\n",
      "    q                       free text\n",
      "        Text input which can be used to filter by product titles and text descriptions.\n",
      "    dateType                dateCreated | lastUpdated | Publication\n",
      "        Type of date to search by.\n",
      "    start                   'YYYY-MM-DD'\n",
      "        Start date\n",
      "    end                     'YYYY-MM-DD'\n",
      "        End date (required if start date is provided)\n",
      "    offset                  integer\n",
      "        Offset into paginated results - default=0\n",
      "    max                     integer\n",
      "        Number of results returned\n",
      "    outputFormat            JSON | CSV | pjson\n",
      "        Default=JSON\n",
      "    polyType                state | huc2 | huc4 | huc8\n",
      "        Well Known Polygon Type. Use this parameter to deliver data by state or HUC\n",
      "        (hydrologic unit codes defined by the Watershed Boundary Dataset/WBD)\n",
      "    polyCode                state FIPS code or huc number\n",
      "        Well Known Polygon Code. This value needs to coordinate with the polyType parameter.\n",
      "    extentQuery             integer\n",
      "        A Polygon code in the science base system, typically from an uploaded shapefile\n",
      "\n"
     ]
    }
   ],
   "source": [
    "help(TNM.find_details)"
   ]
  },
  {
   "cell_type": "markdown",
   "metadata": {},
   "source": [
    "### Max items\n",
    "\n",
    "Defaults to about 50. You only retrieve about 1000 items in one call."
   ]
  },
  {
   "cell_type": "code",
   "execution_count": 10,
   "metadata": {},
   "outputs": [
    {
     "data": {
      "text/plain": [
       "50"
      ]
     },
     "execution_count": 10,
     "metadata": {},
     "output_type": "execute_result"
    }
   ],
   "source": [
    "len(TNM.find_details()['items'])"
   ]
  },
  {
   "cell_type": "code",
   "execution_count": 11,
   "metadata": {},
   "outputs": [
    {
     "data": {
      "text/plain": [
       "998"
      ]
     },
     "execution_count": 11,
     "metadata": {},
     "output_type": "execute_result"
    }
   ],
   "source": [
    "len(TNM.find_details(max=1000000)['items'])"
   ]
  },
  {
   "cell_type": "markdown",
   "metadata": {},
   "source": [
    "Use offset to retrieve more batches."
   ]
  },
  {
   "cell_type": "code",
   "execution_count": 12,
   "metadata": {},
   "outputs": [
    {
     "data": {
      "text/plain": [
       "False"
      ]
     },
     "execution_count": 12,
     "metadata": {},
     "output_type": "execute_result"
    }
   ],
   "source": [
    "params = {\n",
    "    'q': 'National Elevation Dataset (NED) 1/3 arc-second',\n",
    "    'polyCode': '01010002',\n",
    "    'polyType': 'huc8',\n",
    "    'max': 2,\n",
    "}\n",
    "\n",
    "TNM.find_details(**params, offset=0)['items'][0] == TNM.find_details(\n",
    "    **params, offset=1\n",
    ")['items'][0]"
   ]
  },
  {
   "cell_type": "markdown",
   "metadata": {},
   "source": [
    "### Select a region from leafmap"
   ]
  },
  {
   "cell_type": "code",
   "execution_count": 13,
   "metadata": {},
   "outputs": [
    {
     "data": {
      "application/vnd.jupyter.widget-view+json": {
       "model_id": "450fc6d7acad4de8864b0d8e9a9f4960",
       "version_major": 2,
       "version_minor": 0
      },
      "text/plain": [
       "Map(center=[40, -100], controls=(ZoomControl(options=['position', 'zoom_in_text', 'zoom_in_title', 'zoom_out_t…"
      ]
     },
     "metadata": {},
     "output_type": "display_data"
    }
   ],
   "source": [
    "m = leafmap.Map(center=[40, -100], zoom=4)\n",
    "m"
   ]
  },
  {
   "cell_type": "code",
   "execution_count": 14,
   "metadata": {},
   "outputs": [],
   "source": [
    "region = m.user_roi_bounds()\n",
    "if region is None:\n",
    "    region = [-115.9689, 35.9758, -115.3619, 36.4721]"
   ]
  },
  {
   "cell_type": "code",
   "execution_count": 15,
   "metadata": {},
   "outputs": [
    {
     "data": {
      "text/plain": [
       "313"
      ]
     },
     "execution_count": 15,
     "metadata": {},
     "output_type": "execute_result"
    }
   ],
   "source": [
    "TNM.find_details(q='LAZ', bbox=region)['total']"
   ]
  },
  {
   "cell_type": "markdown",
   "metadata": {},
   "source": [
    "### Error handling"
   ]
  },
  {
   "cell_type": "code",
   "execution_count": 16,
   "metadata": {},
   "outputs": [
    {
     "name": "stdout",
     "output_type": "stream",
     "text": [
      "Expecting property name enclosed in double quotes: line 1 column 2 (char 1)\n"
     ]
    },
    {
     "data": {
      "text/plain": [
       "False"
      ]
     },
     "execution_count": 16,
     "metadata": {},
     "output_type": "execute_result"
    }
   ],
   "source": [
    "bool(TNM.find_details(start='01-01-2010', q='NED', bbox=region))"
   ]
  },
  {
   "cell_type": "code",
   "execution_count": 17,
   "metadata": {},
   "outputs": [
    {
     "name": "stdout",
     "output_type": "stream",
     "text": [
      "Expecting property name enclosed in double quotes: line 1 column 2 (char 1)\n"
     ]
    },
    {
     "data": {
      "text/plain": [
       "False"
      ]
     },
     "execution_count": 17,
     "metadata": {},
     "output_type": "execute_result"
    }
   ],
   "source": [
    "bool(TNM.find_details(start='2021-12-01', end='2020-01-01', q='NED', bbox=region))"
   ]
  },
  {
   "cell_type": "code",
   "execution_count": 18,
   "metadata": {},
   "outputs": [
    {
     "name": "stdout",
     "output_type": "stream",
     "text": [
      "Expecting property name enclosed in double quotes: line 1 column 2 (char 1)\n"
     ]
    },
    {
     "data": {
      "text/plain": [
       "False"
      ]
     },
     "execution_count": 18,
     "metadata": {},
     "output_type": "execute_result"
    }
   ],
   "source": [
    "bool(TNM.find_details(start='2021-12-01', end='2022-01-01', q='NED', bbox=region))"
   ]
  },
  {
   "cell_type": "code",
   "execution_count": 19,
   "metadata": {},
   "outputs": [
    {
     "data": {
      "text/plain": [
       "True"
      ]
     },
     "execution_count": 19,
     "metadata": {},
     "output_type": "execute_result"
    }
   ],
   "source": [
    "bool(\n",
    "    TNM.find_details(\n",
    "        start='2020-12-01',\n",
    "        end='2022-01-01',\n",
    "        q='NED',\n",
    "        dateType='dateCreated',\n",
    "        bbox=region,\n",
    "    )\n",
    ")"
   ]
  },
  {
   "cell_type": "markdown",
   "metadata": {},
   "source": [
    "### Downloading files "
   ]
  },
  {
   "cell_type": "code",
   "execution_count": 20,
   "metadata": {},
   "outputs": [
    {
     "name": "stdout",
     "output_type": "stream",
     "text": [
      "Help on method download_tiles in module leafmap.common:\n",
      "\n",
      "download_tiles(region=None, out_dir=None, download_args={}, geopandas_args={}, API={}) -> None method of leafmap.common.The_national_map_USGS instance\n",
      "    Download the US National Elevation Datasets (NED) for a region.\n",
      "    \n",
      "    Args:\n",
      "        region (str | list, optional): An URL|filepath to a vector dataset Or a list of bounds in the form of [minx, miny, maxx, maxy].\n",
      "            Alternatively you could use API parameters such as polygon or bbox.\n",
      "        out_dir (str, optional): The directory to download the files to. Defaults to None, which uses the current working directory.\n",
      "        download_args (dict, optional): A dictionary of arguments to pass to the download_file function. Defaults to {}.\n",
      "        geopandas_args (dict, optional): A dictionary of arguments to pass to the geopandas.read_file() function.\n",
      "            Used for reading a region URL|filepath.\n",
      "        API (dict, optional): A dictionary of arguments to pass to the self.find_details() function.\n",
      "            Exposes most of the documented API. Defaults to {}.\n",
      "    \n",
      "    Returns:\n",
      "        None\n",
      "\n"
     ]
    }
   ],
   "source": [
    "help(TNM.download_tiles)"
   ]
  },
  {
   "cell_type": "code",
   "execution_count": 21,
   "metadata": {},
   "outputs": [
    {
     "name": "stdout",
     "output_type": "stream",
     "text": [
      "Downloading 1 of 25: USGS_1_n47w069_20210611.tif\n"
     ]
    },
    {
     "name": "stderr",
     "output_type": "stream",
     "text": [
      "Downloading...\n",
      "From: https://prd-tnm.s3.amazonaws.com/StagedProducts/Elevation/1/TIFF/historical/n47w069/USGS_1_n47w069_20210611.tif\n",
      "To: /media/hdd/Dropbox/git/leafmap/examples/notebooks/USGS_1_n47w069_20210611.tif\n",
      " 50%|████▉     | 27.3M/54.9M [00:07<00:07, 3.73MB/s]"
     ]
    },
    {
     "name": "stdout",
     "output_type": "stream",
     "text": [
      "Cancelled download\n",
      "0 Downloads completed, 0 downloads failed, 25 files available\n"
     ]
    },
    {
     "name": "stderr",
     "output_type": "stream",
     "text": [
      "\n"
     ]
    }
   ],
   "source": [
    "params = {\n",
    "    'q': 'National Elevation Dataset (NED) 1/3 arc-second',\n",
    "    'polyCode': '01010002',\n",
    "    'polyType': 'huc8',\n",
    "    'max': 0,\n",
    "}\n",
    "\n",
    "TNM.download_tiles(API=params)"
   ]
  },
  {
   "cell_type": "markdown",
   "metadata": {},
   "source": [
    "It can also be accessed without invoking the class."
   ]
  },
  {
   "cell_type": "code",
   "execution_count": 22,
   "metadata": {},
   "outputs": [
    {
     "name": "stdout",
     "output_type": "stream",
     "text": [
      "Downloading 1 of 25: USGS_1_n47w069_20210611.tif\n"
     ]
    },
    {
     "name": "stderr",
     "output_type": "stream",
     "text": [
      "Downloading...\n",
      "From: https://prd-tnm.s3.amazonaws.com/StagedProducts/Elevation/1/TIFF/historical/n47w069/USGS_1_n47w069_20210611.tif\n",
      "To: /media/hdd/Dropbox/git/leafmap/examples/notebooks/USGS_1_n47w069_20210611.tif\n",
      " 16%|█▌        | 8.91M/54.9M [00:02<00:11, 3.88MB/s]"
     ]
    },
    {
     "name": "stdout",
     "output_type": "stream",
     "text": [
      "Cancelled download\n",
      "0 Downloads completed, 0 downloads failed, 25 files available\n"
     ]
    },
    {
     "name": "stderr",
     "output_type": "stream",
     "text": [
      "\n"
     ]
    }
   ],
   "source": [
    "params = {\n",
    "    'q': 'National Elevation Dataset (NED) 1/3 arc-second',\n",
    "    'polyCode': '01010002',\n",
    "    'polyType': 'huc8',\n",
    "    'max': 0,\n",
    "}\n",
    "\n",
    "leafmap.download_tnm(API=params)"
   ]
  },
  {
   "cell_type": "code",
   "execution_count": null,
   "metadata": {},
   "outputs": [],
   "source": [
    "region = [-115.9689, 35.9758, -115.3619, 36.4721]\n",
    "\n",
    "leafmap.download_ned(region=region, return_url=True) == leafmap.download_tnm(\n",
    "    region=region, return_url=True, API={'q': 'NED'}\n",
    ")"
   ]
  },
  {
   "cell_type": "markdown",
   "metadata": {},
   "source": [
    "### List of files"
   ]
  },
  {
   "cell_type": "code",
   "execution_count": null,
   "metadata": {},
   "outputs": [],
   "source": [
    "TNM.find_tiles(API=params)"
   ]
  },
  {
   "cell_type": "markdown",
   "metadata": {},
   "source": [
    "### Dataset metadata"
   ]
  },
  {
   "cell_type": "code",
   "execution_count": null,
   "metadata": {},
   "outputs": [],
   "source": [
    "TNM.datasets_full[0]"
   ]
  },
  {
   "cell_type": "markdown",
   "metadata": {},
   "source": [
    "### Read the docs"
   ]
  },
  {
   "cell_type": "code",
   "execution_count": null,
   "metadata": {},
   "outputs": [],
   "source": [
    "help(TNM)"
   ]
  }
 ],
 "metadata": {
  "hide_input": false,
  "kernelspec": {
   "display_name": "Python 3.9.13 ('geo')",
   "language": "python",
   "name": "python3"
  },
  "language_info": {
   "codemirror_mode": {
    "name": "ipython",
    "version": 3
   },
   "file_extension": ".py",
   "mimetype": "text/x-python",
   "name": "python",
   "nbconvert_exporter": "python",
   "pygments_lexer": "ipython3",
   "version": "3.9.13"
  },
  "toc": {
   "base_numbering": 1,
   "nav_menu": {},
   "number_sections": true,
   "sideBar": true,
   "skip_h1_title": false,
   "title_cell": "Table of Contents",
   "title_sidebar": "Contents",
   "toc_cell": false,
   "toc_position": {},
   "toc_section_display": true,
   "toc_window_display": false
  },
  "varInspector": {
   "cols": {
    "lenName": 16,
    "lenType": 16,
    "lenVar": 40
   },
   "kernels_config": {
    "python": {
     "delete_cmd_postfix": "",
     "delete_cmd_prefix": "del ",
     "library": "var_list.py",
     "varRefreshCmd": "print(var_dic_list())"
    },
    "r": {
     "delete_cmd_postfix": ") ",
     "delete_cmd_prefix": "rm(",
     "library": "var_list.r",
     "varRefreshCmd": "cat(var_dic_list()) "
    }
   },
   "types_to_exclude": [
    "module",
    "function",
    "builtin_function_or_method",
    "instance",
    "_Feature"
   ],
   "window_display": false
  },
  "vscode": {
   "interpreter": {
    "hash": "31f05ea183a4718249d13ada7f166c6bdba1d00716247af5c11c23af8d5923f1"
   }
  }
 },
 "nbformat": 4,
 "nbformat_minor": 4
}
