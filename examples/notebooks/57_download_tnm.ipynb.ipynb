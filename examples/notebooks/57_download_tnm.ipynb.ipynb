{
 "cells": [
  {
   "cell_type": "markdown",
   "metadata": {},
   "source": [
    "[![image](https://colab.research.google.com/assets/colab-badge.svg)](https://githubtocolab.com/giswqs/leafmap/blob/master/examples/notebooks/01_leafmap_intro.ipynb)\n",
    "[![image](https://mybinder.org/badge_logo.svg)](https://gishub.org/leafmap-binder)\n",
    "\n",
    "### Downloading various Topological dataformats from the National Map (USGS)\n",
    "\n",
    "The national map (TNM) is a catalog of *topological* downloadable datasources maintained by the USGS. \n",
    "\n",
    "- It contains a wide range of dataformats (such as GeoTiff, LAZ, ...) and datasets.\n",
    "- It provides an endpoint that can be used to search for published datasets and files.\n",
    "- This API supports a wide range of searchable parameters (bounding box, polygon, dates, keyword, ...)\n",
    "- It returns detailed information regarding the properties of datasets, file,\n",
    "- as well as various download links (file, thumbnail, xml descriptions, ...).\n",
    "\n",
    "We've created a thin wrapper to expose this treasure trove. \n",
    "\n",
    "For more details about TNM, see https://apps.nationalmap.gov/tnmaccess/#/.\n",
    "The same data is also downloable using https://apps.nationalmap.gov/downloader/"
   ]
  },
  {
   "cell_type": "code",
   "execution_count": 1,
   "metadata": {},
   "outputs": [],
   "source": [
    "# !pip install -U leafmap"
   ]
  },
  {
   "cell_type": "code",
   "execution_count": 2,
   "metadata": {},
   "outputs": [],
   "source": [
    "import leafmap"
   ]
  },
  {
   "cell_type": "markdown",
   "metadata": {},
   "source": [
    "If you are using a recently implemented leafmap feature that has not yet been released to PyPI or conda-forge, you can uncomment the following line to install the development version from GitHub."
   ]
  },
  {
   "cell_type": "code",
   "execution_count": 3,
   "metadata": {},
   "outputs": [],
   "source": [
    "# leafmap.update_package()"
   ]
  },
  {
   "cell_type": "markdown",
   "metadata": {},
   "source": [
    "Lets discover"
   ]
  },
  {
   "cell_type": "code",
   "execution_count": 4,
   "metadata": {},
   "outputs": [],
   "source": [
    "TNM = leafmap.The_national_map_USGS()"
   ]
  },
  {
   "cell_type": "markdown",
   "metadata": {},
   "source": [
    "### Datasets"
   ]
  },
  {
   "cell_type": "code",
   "execution_count": 5,
   "metadata": {},
   "outputs": [
    {
     "data": {
      "text/plain": [
       "{'Alaska IFSAR 5 meter DEM',\n",
       " 'Digital Elevation Model (DEM) 1 meter',\n",
       " 'Ifsar Digital Surface Model (DSM)',\n",
       " 'Ifsar Orthorectified Radar Image (ORI)',\n",
       " 'Lidar Point Cloud (LPC)',\n",
       " 'National Elevation Dataset (NED) 1 arc-second',\n",
       " 'National Elevation Dataset (NED) 1/3 arc-second',\n",
       " 'National Elevation Dataset (NED) 1/3 arc-second - Contours',\n",
       " 'National Elevation Dataset (NED) 1/9 arc-second',\n",
       " 'National Elevation Dataset (NED) Alaska 2 arc-second',\n",
       " 'National Hydrography Dataset (NHD) Best Resolution',\n",
       " 'National Hydrography Dataset Plus High Resolution (NHDPlus HR)',\n",
       " 'National Watershed Boundary Dataset (WBD)',\n",
       " 'Original Product Resolution (OPR) Digital Elevation Model (DEM)',\n",
       " 'Small-scale Datasets - Boundaries',\n",
       " 'Small-scale Datasets - Contours',\n",
       " 'Small-scale Datasets - Hydrography',\n",
       " 'Small-scale Datasets - Transportation',\n",
       " 'Topobathymetric Lidar DEM',\n",
       " 'Topobathymetric Lidar Point Cloud',\n",
       " 'US Topo Current',\n",
       " 'US Topo Historical'}"
      ]
     },
     "execution_count": 5,
     "metadata": {},
     "output_type": "execute_result"
    }
   ],
   "source": [
    "TNM.datasets"
   ]
  },
  {
   "cell_type": "markdown",
   "metadata": {},
   "source": [
    "### And formats\n",
    "\n",
    "note that any format (f.e. 'All') is specifc to one or more datasets, not all."
   ]
  },
  {
   "cell_type": "code",
   "execution_count": 6,
   "metadata": {},
   "outputs": [
    {
     "data": {
      "text/plain": [
       "{'All',\n",
       " 'FileGDB',\n",
       " 'GeoPDF',\n",
       " 'GeoPackage',\n",
       " 'GeoTIFF',\n",
       " 'GeoTIFF, IMG',\n",
       " 'JPEG2000',\n",
       " 'LAS,LAZ',\n",
       " 'Shapefile',\n",
       " 'TIFF',\n",
       " 'TXT (pipes)'}"
      ]
     },
     "execution_count": 6,
     "metadata": {},
     "output_type": "execute_result"
    }
   ],
   "source": [
    "TNM.prodFormats"
   ]
  },
  {
   "cell_type": "markdown",
   "metadata": {},
   "source": [
    "### Number of files in collections"
   ]
  },
  {
   "cell_type": "code",
   "execution_count": 30,
   "metadata": {},
   "outputs": [
    {
     "data": {
      "text/plain": [
       "10521020"
      ]
     },
     "execution_count": 30,
     "metadata": {},
     "output_type": "execute_result"
    }
   ],
   "source": [
    "TNM.find_details()['total']"
   ]
  },
  {
   "cell_type": "markdown",
   "metadata": {},
   "source": [
    "### A detail"
   ]
  },
  {
   "cell_type": "code",
   "execution_count": 29,
   "metadata": {},
   "outputs": [
    {
     "data": {
      "text/plain": [
       "{'title': 'FSA 10:1 NAIP Imagery m_2408002_ne_17_1_20150719_20160222 3.75 x 3.75 minute JPEG2000 from The National Map',\n",
       " 'moreInfo': \"This data set contains imagery from the National Agriculture Imagery Program (NAIP). The NAIP program is administered by USDA FSA and has been established to support two main FSA strategic goals centered on agricultural production. These are, increase stewardship of America's natural resources while enhancing the environment, and to ensure commodities are procured and distributed effectively and efficiently to increase food security. The NAIP program supports these goals by acquiring and providing ortho imagery that has been collected during the agricultural growing season in the U.S. The NAIP ortho imagery is tailored to meet FSA requirements and is a fundamental tool used to support FSA farm and conservation programs. Ortho imagery [...]\",\n",
       " 'sourceId': '582817fbe4b01fad870e1597',\n",
       " 'sourceName': 'ScienceBase',\n",
       " 'sourceOriginId': 'https://thor-f5.er.usgs.gov/ngtoc/metadata/waf/orthoimagery/naip/fl_2015/m_2408002_ne_17_1_20150719_20160222.xml',\n",
       " 'sourceOriginName': 'gda',\n",
       " 'metaUrl': 'https://www.sciencebase.gov/catalog/item/582817fbe4b01fad870e1597',\n",
       " 'vendorMetaUrl': None,\n",
       " 'publicationDate': '2016-02-29',\n",
       " 'lastUpdated': '2016-11-14T15:08:00.185-07:00',\n",
       " 'dateCreated': '2016-11-13T00:36:27.840-07:00',\n",
       " 'sizeInBytes': 21568669,\n",
       " 'extent': '3.75 x 3.75 minute',\n",
       " 'format': 'JPEG2000',\n",
       " 'downloadURL': 'https://prd-tnm.s3.amazonaws.com/StagedProducts/NAIP/fl_2015/24080/m_2408002_ne_17_1_20150719_20160222.jp2',\n",
       " 'downloadURLRaster': None,\n",
       " 'previewGraphicURL': None,\n",
       " 'downloadLazURL': None,\n",
       " 'urls': {},\n",
       " 'datasets': [],\n",
       " 'boundingBox': {'minX': -80.8125,\n",
       "  'maxX': -80.75,\n",
       "  'minY': 24.9375,\n",
       "  'maxY': 25.0},\n",
       " 'bestFitIndex': 0.0,\n",
       " 'body': \"This data set contains imagery from the National Agriculture Imagery Program (NAIP). The NAIP program is administered by USDA FSA and has been established to support two main FSA strategic goals centered on agricultural production. These are, increase stewardship of America's natural resources while enhancing the environment, and to ensure commodities are procured and distributed effectively and efficiently to increase food security. The NAIP program supports these goals by acquiring and providing ortho imagery that has been collected during the agricultural growing season in the U.S. The NAIP ortho imagery is tailored to meet FSA requirements and is a fundamental tool used to support FSA farm and conservation programs. Ortho imagery provides an effective, intuitive means of communication about farm program administration between FSA and stakeholders. New technology and innovation is identified by fostering and maintaining a relationship with vendors and government partners, and by keeping pace with the broader geospatial community. As a result of these efforts the NAIP program provides three main products: DOQQ tiles, Compressed County Mosaics (CCM), and Seamline shape files The Contract specifications for NAIP imagery have changed over time reflecting agency requirements and improving technologies. These changes include image resolution, horizontal accuracy, coverage area, and number of bands. In general, flying seasons are established by FSA and are targeted for peak crop growing conditions. The NAIP acquisition cycle is based on a minimum 3 year refresh of base ortho imagery. The tiling format of the NAIP imagery is based on a 3.75' x 3.75' quarter quadrangle with a 300 pixel buffer on all four sides. NAIP quarter quads are formatted to the UTM coordinate system using the North American Datum of 1983. NAIP imagery may contain as much as 10% cloud cover per tile.\",\n",
       " 'processingUrl': 'processingUrl',\n",
       " 'modificationInfo': '2015-07-19'}"
      ]
     },
     "execution_count": 29,
     "metadata": {},
     "output_type": "execute_result"
    }
   ],
   "source": [
    "TNM.find_details()['items'][0]"
   ]
  },
  {
   "cell_type": "markdown",
   "metadata": {},
   "source": [
    "### Using parameters\n",
    "\n",
    "You can retrieve up to about 1000 tiles."
   ]
  },
  {
   "cell_type": "code",
   "execution_count": 47,
   "metadata": {},
   "outputs": [
    {
     "data": {
      "text/plain": [
       "998"
      ]
     },
     "execution_count": 47,
     "metadata": {},
     "output_type": "execute_result"
    }
   ],
   "source": [
    "len(TNM.find_details(max=1000000)['items'])"
   ]
  },
  {
   "cell_type": "markdown",
   "metadata": {},
   "source": [
    "### Select a polygon or region"
   ]
  },
  {
   "cell_type": "code",
   "execution_count": 48,
   "metadata": {},
   "outputs": [
    {
     "data": {
      "application/vnd.jupyter.widget-view+json": {
       "model_id": "b018ae3157a141289bad9cdc6ef9ff47",
       "version_major": 2,
       "version_minor": 0
      },
      "text/plain": [
       "Map(center=[40, -100], controls=(ZoomControl(options=['position', 'zoom_in_text', 'zoom_in_title', 'zoom_out_t…"
      ]
     },
     "metadata": {},
     "output_type": "display_data"
    }
   ],
   "source": [
    "m = leafmap.Map(center=[40, -100], zoom=4)\n",
    "m"
   ]
  },
  {
   "cell_type": "code",
   "execution_count": 49,
   "metadata": {},
   "outputs": [],
   "source": [
    "region = m.user_roi_bounds()\n",
    "# if region is None:\n",
    "#    region = [-115.9689, 35.9758, -115.3619, 36.4721]"
   ]
  },
  {
   "cell_type": "code",
   "execution_count": 51,
   "metadata": {},
   "outputs": [
    {
     "ename": "TypeError",
     "evalue": "'float' object is not iterable",
     "output_type": "error",
     "traceback": [
      "\u001b[1;31m---------------------------------------------------------------------------\u001b[0m",
      "\u001b[1;31mTypeError\u001b[0m                                 Traceback (most recent call last)",
      "Input \u001b[1;32mIn [51]\u001b[0m, in \u001b[0;36m<cell line: 1>\u001b[1;34m()\u001b[0m\n\u001b[1;32m----> 1\u001b[0m \u001b[43mTNM\u001b[49m\u001b[38;5;241;43m.\u001b[39;49m\u001b[43mfind_details\u001b[49m\u001b[43m(\u001b[49m\u001b[43mq\u001b[49m\u001b[38;5;241;43m=\u001b[39;49m\u001b[38;5;124;43m'\u001b[39;49m\u001b[38;5;124;43mNED\u001b[39;49m\u001b[38;5;124;43m'\u001b[39;49m\u001b[43m,\u001b[49m\u001b[43m \u001b[49m\u001b[43mpolygon\u001b[49m\u001b[38;5;241;43m=\u001b[39;49m\u001b[43mregion\u001b[49m\u001b[43m)\u001b[49m[\u001b[38;5;124m'\u001b[39m\u001b[38;5;124mtotal\u001b[39m\u001b[38;5;124m'\u001b[39m]\n",
      "File \u001b[1;32m~\\AppData\\Local\\Programs\\Python\\Python310\\lib\\site-packages\\leafmap\\common.py:6337\u001b[0m, in \u001b[0;36mThe_national_map_USGS.find_details\u001b[1;34m(self, bbox, polygon, datasets, prodFormats, prodExtents, q, dateType, start, end, offset, max, outputFormat, polyType, polyCode, extentQuery)\u001b[0m\n\u001b[0;32m   6335\u001b[0m     \u001b[38;5;28;01mreturn\u001b[39;00m \u001b[38;5;124m'\u001b[39m\u001b[38;5;124m,\u001b[39m\u001b[38;5;124m'\u001b[39m\u001b[38;5;241m.\u001b[39mjoin(\u001b[38;5;124m'\u001b[39m\u001b[38;5;124m \u001b[39m\u001b[38;5;124m'\u001b[39m\u001b[38;5;241m.\u001b[39mjoin(\u001b[38;5;28mmap\u001b[39m(\u001b[38;5;28mstr\u001b[39m,point)) \u001b[38;5;28;01mfor\u001b[39;00m point \u001b[38;5;129;01min\u001b[39;00m x)\n\u001b[0;32m   6336\u001b[0m \u001b[38;5;28;01mif\u001b[39;00m polygon:\n\u001b[1;32m-> 6337\u001b[0m     used_locals[\u001b[38;5;124m'\u001b[39m\u001b[38;5;124mpolygon\u001b[39m\u001b[38;5;124m'\u001b[39m] \u001b[38;5;241m=\u001b[39m \u001b[43mconvert_polygon\u001b[49m\u001b[43m(\u001b[49m\u001b[43mpolygon\u001b[49m\u001b[43m)\u001b[49m      \n\u001b[0;32m   6339\u001b[0m \u001b[38;5;28;01mdef\u001b[39;00m \u001b[38;5;21mconvert_bbox\u001b[39m(x):\n\u001b[0;32m   6340\u001b[0m     \u001b[38;5;66;03m# return list as '-115.9689, 35.9758, -115.3619, 36.4721'\u001b[39;00m\n\u001b[0;32m   6341\u001b[0m     \u001b[38;5;28;01mreturn\u001b[39;00m \u001b[38;5;28mstr\u001b[39m(x)[\u001b[38;5;241m1\u001b[39m:\u001b[38;5;241m-\u001b[39m\u001b[38;5;241m1\u001b[39m]\n",
      "File \u001b[1;32m~\\AppData\\Local\\Programs\\Python\\Python310\\lib\\site-packages\\leafmap\\common.py:6335\u001b[0m, in \u001b[0;36mThe_national_map_USGS.find_details.<locals>.convert_polygon\u001b[1;34m(x)\u001b[0m\n\u001b[0;32m   6334\u001b[0m \u001b[38;5;28;01mdef\u001b[39;00m \u001b[38;5;21mconvert_polygon\u001b[39m(x):\n\u001b[1;32m-> 6335\u001b[0m     \u001b[38;5;28;01mreturn\u001b[39;00m \u001b[38;5;124;43m'\u001b[39;49m\u001b[38;5;124;43m,\u001b[39;49m\u001b[38;5;124;43m'\u001b[39;49m\u001b[38;5;241;43m.\u001b[39;49m\u001b[43mjoin\u001b[49m\u001b[43m(\u001b[49m\u001b[38;5;124;43m'\u001b[39;49m\u001b[38;5;124;43m \u001b[39;49m\u001b[38;5;124;43m'\u001b[39;49m\u001b[38;5;241;43m.\u001b[39;49m\u001b[43mjoin\u001b[49m\u001b[43m(\u001b[49m\u001b[38;5;28;43mmap\u001b[39;49m\u001b[43m(\u001b[49m\u001b[38;5;28;43mstr\u001b[39;49m\u001b[43m,\u001b[49m\u001b[43mpoint\u001b[49m\u001b[43m)\u001b[49m\u001b[43m)\u001b[49m\u001b[43m \u001b[49m\u001b[38;5;28;43;01mfor\u001b[39;49;00m\u001b[43m \u001b[49m\u001b[43mpoint\u001b[49m\u001b[43m \u001b[49m\u001b[38;5;129;43;01min\u001b[39;49;00m\u001b[43m \u001b[49m\u001b[43mx\u001b[49m\u001b[43m)\u001b[49m\n",
      "File \u001b[1;32m~\\AppData\\Local\\Programs\\Python\\Python310\\lib\\site-packages\\leafmap\\common.py:6335\u001b[0m, in \u001b[0;36m<genexpr>\u001b[1;34m(.0)\u001b[0m\n\u001b[0;32m   6334\u001b[0m \u001b[38;5;28;01mdef\u001b[39;00m \u001b[38;5;21mconvert_polygon\u001b[39m(x):\n\u001b[1;32m-> 6335\u001b[0m     \u001b[38;5;28;01mreturn\u001b[39;00m \u001b[38;5;124m'\u001b[39m\u001b[38;5;124m,\u001b[39m\u001b[38;5;124m'\u001b[39m\u001b[38;5;241m.\u001b[39mjoin(\u001b[38;5;124m'\u001b[39m\u001b[38;5;124m \u001b[39m\u001b[38;5;124m'\u001b[39m\u001b[38;5;241m.\u001b[39mjoin(\u001b[38;5;28;43mmap\u001b[39;49m\u001b[43m(\u001b[49m\u001b[38;5;28;43mstr\u001b[39;49m\u001b[43m,\u001b[49m\u001b[43mpoint\u001b[49m\u001b[43m)\u001b[49m) \u001b[38;5;28;01mfor\u001b[39;00m point \u001b[38;5;129;01min\u001b[39;00m x)\n",
      "\u001b[1;31mTypeError\u001b[0m: 'float' object is not iterable"
     ]
    }
   ],
   "source": [
    "TNM.find_details(q='NED', polygon=region)['total']"
   ]
  },
  {
   "cell_type": "code",
   "execution_count": 46,
   "metadata": {},
   "outputs": [
    {
     "name": "stdout",
     "output_type": "stream",
     "text": [
      "Help on method find_details in module leafmap.common:\n",
      "\n",
      "find_details(bbox: list[float] = None, polygon: list[tuple[float, float]] = None, datasets: list[str] | str = [], prodFormats: list[str] | str = [], prodExtents: list[str] | str = [], q: str = None, dateType: str = None, start: str = None, end: str = None, offset: int = 0, max: int = None, outputFormat: str = 'JSON', polyType: str = None, polyCode: str = None, extentQuery: int = None) -> dict method of leafmap.common.The_national_map_USGS instance\n",
      "    Possible search parameters (kwargs) support by API\n",
      "    \n",
      "    Parameter               Values                      \n",
      "        Description\n",
      "    ---------------------------------------------------------------------------------------------------    \n",
      "    bbox                    'minx, miny, maxx, maxy'\n",
      "        Geographic longitude/latitude values expressed in  decimal degrees in a comma-delimited list.\n",
      "    polygon                 '[x,y x,y x,y x,y x,y]'       \n",
      "        Polygon, longitude/latitude values expressed in decimal degrees in a space-delimited list.\n",
      "    datasets                See: Datasets (Optional)       \n",
      "        Comma-delimited list of valid dataset tag names (sbDatasetTag)\n",
      "        From https://apps.nationalmap.gov/tnmaccess/#/product\n",
      "    prodFormats             See: Product Formats (Optional)\n",
      "        Comma-delimited list of dataset-specific formats\n",
      "        From https://apps.nationalmap.gov/tnmaccess/#/product\n",
      "    prodExtents             See: Product Extents (Optional)\n",
      "        Comma-delimited list of dataset-specific extents\n",
      "        From https://apps.nationalmap.gov/tnmaccess/#/product\n",
      "    q                       free text \n",
      "        Text input which can be used to filter by product titles and text descriptions.\n",
      "    dateType                dateCreated | lastUpdated | Publication \n",
      "        Type of date to search by.\n",
      "    start                   'YYYY-MM-DD' \n",
      "        Start date\n",
      "    end                     'YYYY-MM-DD' \n",
      "        End date (required if start date is provided)\n",
      "    offset                  integer \n",
      "        Offset into paginated results - default=0\n",
      "    max                     integer \n",
      "        Number of results returned\n",
      "    outputFormat            JSON | CSV | pjson\n",
      "        Default=JSON\n",
      "    polyType                state | huc2 | huc4 | huc8 \n",
      "        Well Known Polygon Type. Use this parameter to deliver data by state or HUC\n",
      "        (hydrologic unit codes defined by the Watershed Boundary Dataset/WBD)\n",
      "    polyCode                state FIPS code or huc number \n",
      "        Well Known Polygon Code. This value needs to coordinate with the polyType parameter.\n",
      "    extentQuery             integer \n",
      "        A Polygon code in the science base system, typically from an uploaded shapefile\n",
      "\n"
     ]
    }
   ],
   "source": [
    "# Available parameters\n",
    "\n",
    "help(TNM.find_details)"
   ]
  },
  {
   "cell_type": "markdown",
   "metadata": {},
   "source": [
    "### Downloading files "
   ]
  },
  {
   "cell_type": "code",
   "execution_count": null,
   "metadata": {},
   "outputs": [],
   "source": [
    "TNM.download_tiles()"
   ]
  }
 ],
 "metadata": {
  "hide_input": false,
  "kernelspec": {
   "display_name": "Python 3 (ipykernel)",
   "language": "python",
   "name": "python3"
  },
  "language_info": {
   "codemirror_mode": {
    "name": "ipython",
    "version": 3
   },
   "file_extension": ".py",
   "mimetype": "text/x-python",
   "name": "python",
   "nbconvert_exporter": "python",
   "pygments_lexer": "ipython3",
   "version": "3.10.6"
  },
  "toc": {
   "base_numbering": 1,
   "nav_menu": {},
   "number_sections": true,
   "sideBar": true,
   "skip_h1_title": false,
   "title_cell": "Table of Contents",
   "title_sidebar": "Contents",
   "toc_cell": false,
   "toc_position": {},
   "toc_section_display": true,
   "toc_window_display": false
  },
  "varInspector": {
   "cols": {
    "lenName": 16,
    "lenType": 16,
    "lenVar": 40
   },
   "kernels_config": {
    "python": {
     "delete_cmd_postfix": "",
     "delete_cmd_prefix": "del ",
     "library": "var_list.py",
     "varRefreshCmd": "print(var_dic_list())"
    },
    "r": {
     "delete_cmd_postfix": ") ",
     "delete_cmd_prefix": "rm(",
     "library": "var_list.r",
     "varRefreshCmd": "cat(var_dic_list()) "
    }
   },
   "types_to_exclude": [
    "module",
    "function",
    "builtin_function_or_method",
    "instance",
    "_Feature"
   ],
   "window_display": false
  }
 },
 "nbformat": 4,
 "nbformat_minor": 4
}
