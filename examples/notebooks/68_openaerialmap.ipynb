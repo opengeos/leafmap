{
 "cells": [
  {
   "attachments": {},
   "cell_type": "markdown",
   "metadata": {},
   "source": [
    "[![image](https://jupyterlite.rtfd.io/en/latest/_static/badge.svg)](https://demo.leafmap.org/lab/index.html?path=notebooks/68_openaerialmap.ipynb)\n",
    "[![image](https://colab.research.google.com/assets/colab-badge.svg)](https://githubtocolab.com/giswqs/leafmap/blob/master/examples/notebooks/68_openaerialmap.ipynb)\n",
    "[![image](https://mybinder.org/badge_logo.svg)](https://gishub.org/leafmap-binder)\n",
    "\n",
    "Uncomment the following line to install [leafmap](https://leafmap.org) if needed."
   ]
  },
  {
   "cell_type": "code",
   "execution_count": null,
   "metadata": {},
   "outputs": [],
   "source": [
    "import leafmap.foliumap as leafmap"
   ]
  },
  {
   "cell_type": "code",
   "execution_count": null,
   "id": "3faf97cf",
   "metadata": {},
   "outputs": [],
   "source": [
    "bbox = [-79.6344, -0.9063, -77.3383, 1.0436]\n",
    "start_date = '2016-04-01'\n",
    "end_date = '2016-04-30'\n",
    "gdf = leafmap.oam_search(bbox=bbox, start_date=start_date, end_date=end_date)\n",
    "print(f'Found {len(gdf)} images')"
   ]
  },
  {
   "cell_type": "code",
   "execution_count": null,
   "id": "2c42a4f3",
   "metadata": {},
   "outputs": [],
   "source": [
    "gdf.head()"
   ]
  },
  {
   "cell_type": "code",
   "execution_count": null,
   "id": "9e0c2ca5",
   "metadata": {},
   "outputs": [],
   "source": [
    "m = leafmap.Map()\n",
    "m.add_gdf(gdf, layer_name='Footprints')\n",
    "m"
   ]
  },
  {
   "cell_type": "code",
   "execution_count": null,
   "id": "d76e7352",
   "metadata": {},
   "outputs": [],
   "source": [
    "m = leafmap.Map(center=[4.7955, -75.6899], zoom=15)\n",
    "m.add_basemap('SATELLITE', show=False)\n",
    "\n",
    "bbox = [-75.7138, 4.7826, -75.6659, 4.808332]\n",
    "m.oam_search(bbox=bbox)\n",
    "\n",
    "m"
   ]
  }
 ],
 "metadata": {
  "kernelspec": {
   "display_name": "geo",
   "language": "python",
   "name": "python3"
  },
  "language_info": {
   "codemirror_mode": {
    "name": "ipython",
    "version": 3
   },
   "file_extension": ".py",
   "mimetype": "text/x-python",
   "name": "python",
   "nbconvert_exporter": "python",
   "pygments_lexer": "ipython3",
   "version": "3.10.8"
  },
  "vscode": {
   "interpreter": {
    "hash": "31f05ea183a4718249d13ada7f166c6bdba1d00716247af5c11c23af8d5923f1"
   }
  }
 },
 "nbformat": 4,
 "nbformat_minor": 5
}
