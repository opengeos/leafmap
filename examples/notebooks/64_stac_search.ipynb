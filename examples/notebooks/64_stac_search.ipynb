{
 "cells": [
  {
   "attachments": {},
   "cell_type": "markdown",
   "metadata": {},
   "source": [
    "[![image](https://jupyterlite.rtfd.io/en/latest/_static/badge.svg)](https://demo.leafmap.org/lab/index.html?path=notebooks/zz_notebook_template.ipynb)\n",
    "[![image](https://colab.research.google.com/assets/colab-badge.svg)](https://githubtocolab.com/giswqs/leafmap/blob/master/examples/notebooks/64_stac_search.ipynb)\n",
    "[![image](https://mybinder.org/badge_logo.svg)](https://gishub.org/leafmap-binder)\n",
    "\n",
    "Uncomment the following line to install [leafmap](https://leafmap.org) if needed."
   ]
  },
  {
   "cell_type": "code",
   "execution_count": null,
   "metadata": {},
   "outputs": [],
   "source": [
    "# !pip install -U leafmap"
   ]
  },
  {
   "cell_type": "code",
   "execution_count": null,
   "metadata": {},
   "outputs": [],
   "source": [
    "import leafmap"
   ]
  },
  {
   "cell_type": "code",
   "execution_count": null,
   "id": "a0395838",
   "metadata": {},
   "outputs": [],
   "source": [
    "url = 'https://earth-search.aws.element84.com/v1/'\n",
    "collection = 'sentinel-2-l2a'\n",
    "time_range = \"2020-12-01/2020-12-31\"\n",
    "bbox = [-122.2751, 47.5469, -121.9613, 47.7458]"
   ]
  },
  {
   "cell_type": "code",
   "execution_count": null,
   "id": "a682229f",
   "metadata": {},
   "outputs": [],
   "source": [
    "search = leafmap.stac_search(\n",
    "    url=url,\n",
    "    max_items=10,\n",
    "    collections=[collection],\n",
    "    bbox=bbox,\n",
    "    datetime=time_range,\n",
    "    query={\"eo:cloud_cover\":{\"lt\":10}},\n",
    "    sortby=[{ 'field': 'properties.eo:cloud_cover', 'direction': 'asc' }],\n",
    ")\n",
    "search"
   ]
  },
  {
   "cell_type": "code",
   "execution_count": null,
   "id": "604a5be5",
   "metadata": {},
   "outputs": [],
   "source": [
    "search = leafmap.stac_search(\n",
    "    url=url,\n",
    "    max_items=10,\n",
    "    collections=[collection],\n",
    "    bbox=bbox,\n",
    "    datetime=time_range,\n",
    "    get_collection=True,\n",
    ")\n",
    "# search"
   ]
  },
  {
   "cell_type": "code",
   "execution_count": null,
   "id": "405a1a98",
   "metadata": {},
   "outputs": [],
   "source": [
    "search = leafmap.stac_search(\n",
    "    url=url,\n",
    "    max_items=10,\n",
    "    collections=[collection],\n",
    "    bbox=bbox,\n",
    "    datetime=time_range,\n",
    "    get_gdf=True,\n",
    ")\n",
    "search.head()"
   ]
  },
  {
   "cell_type": "code",
   "execution_count": null,
   "id": "28a3c6bd",
   "metadata": {},
   "outputs": [],
   "source": [
    "search = leafmap.stac_search(\n",
    "    url=url,\n",
    "    max_items=10,\n",
    "    collections=[collection],\n",
    "    bbox=bbox,\n",
    "    datetime=time_range,\n",
    "    get_assets=True,\n",
    ")\n",
    "# search"
   ]
  },
  {
   "cell_type": "code",
   "execution_count": null,
   "id": "84cef46e",
   "metadata": {},
   "outputs": [],
   "source": [
    "search = leafmap.stac_search(\n",
    "    url=url,\n",
    "    max_items=10,\n",
    "    collections=[collection],\n",
    "    bbox=bbox,\n",
    "    datetime=time_range,\n",
    "    get_info=True,\n",
    ")\n",
    "# search"
   ]
  },
  {
   "cell_type": "code",
   "execution_count": null,
   "id": "d4b251e2",
   "metadata": {},
   "outputs": [],
   "source": [
    "search = leafmap.stac_search(\n",
    "    url=url,\n",
    "    max_items=10,\n",
    "    collections=[collection],\n",
    "    bbox=bbox,\n",
    "    datetime=time_range,\n",
    "    get_links=True,\n",
    ")\n",
    "search"
   ]
  },
  {
   "cell_type": "markdown",
   "id": "c62260c4",
   "metadata": {},
   "source": [
    "Search and visualize open geospatial dataset interactively"
   ]
  },
  {
   "cell_type": "code",
   "execution_count": null,
   "id": "fb33fafb",
   "metadata": {},
   "outputs": [],
   "source": [
    "leafmap.show_youtube_video('https://youtu.be/7OEraGYOWiU')"
   ]
  },
  {
   "cell_type": "code",
   "execution_count": null,
   "id": "11c71b1a",
   "metadata": {},
   "outputs": [],
   "source": [
    "m = leafmap.Map(center=[37.7517, -122.4433], zoom=8)\n",
    "m"
   ]
  },
  {
   "attachments": {},
   "cell_type": "markdown",
   "id": "e296328d",
   "metadata": {},
   "source": [
    "The search results can be accessed using one of the following methods:"
   ]
  },
  {
   "cell_type": "code",
   "execution_count": null,
   "id": "693b5b68",
   "metadata": {},
   "outputs": [],
   "source": [
    "# m.stac_gdf  # The GeoDataFrame of the STAC search results"
   ]
  },
  {
   "cell_type": "code",
   "execution_count": null,
   "id": "902f3dc0",
   "metadata": {},
   "outputs": [],
   "source": [
    "# m.stac_dict  # The STAC search results as a dictionary"
   ]
  },
  {
   "cell_type": "code",
   "execution_count": null,
   "id": "cfa3f3a1",
   "metadata": {},
   "outputs": [],
   "source": [
    "# m.stac_item  # The selected STAC item of the search result"
   ]
  }
 ],
 "metadata": {
  "kernelspec": {
   "display_name": "base",
   "language": "python",
   "name": "python3"
  },
  "language_info": {
   "codemirror_mode": {
    "name": "ipython",
    "version": 3
   },
   "file_extension": ".py",
   "mimetype": "text/x-python",
   "name": "python",
   "nbconvert_exporter": "python",
   "pygments_lexer": "ipython3",
   "version": "3.10.8"
  },
  "vscode": {
   "interpreter": {
    "hash": "31f05ea183a4718249d13ada7f166c6bdba1d00716247af5c11c23af8d5923f1"
   }
  }
 },
 "nbformat": 4,
 "nbformat_minor": 5
}
