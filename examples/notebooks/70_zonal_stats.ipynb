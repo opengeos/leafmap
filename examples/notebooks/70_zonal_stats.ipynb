{
 "cells": [
  {
   "attachments": {},
   "cell_type": "markdown",
   "id": "647eda0b",
   "metadata": {},
   "source": [
    "[![image](https://jupyterlite.rtfd.io/en/latest/_static/badge.svg)](https://demo.leafmap.org/lab/index.html?path=notebooks/70_zonal_stats.ipynb)\n",
    "[![image](https://studiolab.sagemaker.aws/studiolab.svg)](https://studiolab.sagemaker.aws/import/github/giswqs/leafmap/blob/master/examples/notebooks/70_zonal_stats.ipynb)\n",
    "[![image](https://img.shields.io/badge/Open-Planetary%20Computer-black?style=flat&logo=microsoft)](https://pccompute.westeurope.cloudapp.azure.com/compute/hub/user-redirect/git-pull?repo=https://github.com/giswqs/leafmap&urlpath=lab/tree/leafmap/examples/notebooks/70_zonal_stats.ipynb&branch=master)\n",
    "[![image](https://colab.research.google.com/assets/colab-badge.svg)](https://githubtocolab.com/giswqs/leafmap/blob/master/examples/notebooks/70_zonal_stats.ipynb)\n",
    "[![image](https://mybinder.org/badge_logo.svg)](https://gishub.org/leafmap-binder)\n",
    "\n",
    "**Calculating zonal statistics - summarizing geospatial raster datasets based on vector geometries**\n",
    "\n",
    "Uncomment the following line to install [leafmap](https://leafmap.org) if needed."
   ]
  },
  {
   "cell_type": "code",
   "execution_count": null,
   "id": "011dc14f",
   "metadata": {},
   "outputs": [],
   "source": [
    "# %pip install -U leafmap"
   ]
  },
  {
   "cell_type": "code",
   "execution_count": null,
   "id": "e5343ff6",
   "metadata": {},
   "outputs": [],
   "source": [
    "# %pip install -U rasterstats geopandas"
   ]
  },
  {
   "cell_type": "code",
   "execution_count": null,
   "id": "08fe3a5c",
   "metadata": {},
   "outputs": [],
   "source": [
    "import leafmap\n",
    "import geopandas as gpd"
   ]
  },
  {
   "cell_type": "code",
   "execution_count": null,
   "id": "34298851",
   "metadata": {},
   "outputs": [],
   "source": [
    "dsm = 'https://giswqs.github.io/data/elevation/dsm.tif'\n",
    "hag = 'https://giswqs.github.io/data/elevation/hag.tif'\n",
    "buildings = 'https://giswqs.github.io/data/elevation/buildings.geojson'"
   ]
  },
  {
   "cell_type": "code",
   "execution_count": null,
   "id": "fd6258f3",
   "metadata": {},
   "outputs": [],
   "source": [
    "m = leafmap.Map()\n",
    "m.add_cog_layer(dsm, name='DSM', palette='terrain')\n",
    "m.add_cog_layer(hag, name='Height Above Ground', palette='magma')\n",
    "m.add_geojson(buildings, layer_name='Buildings')\n",
    "m"
   ]
  },
  {
   "cell_type": "code",
   "execution_count": null,
   "id": "b35f5a14",
   "metadata": {},
   "outputs": [],
   "source": [
    "gdf = gpd.read_file(buildings)\n",
    "len(gdf)"
   ]
  },
  {
   "cell_type": "code",
   "execution_count": null,
   "id": "05ac3e5b",
   "metadata": {},
   "outputs": [],
   "source": [
    "gdf.head()"
   ]
  },
  {
   "attachments": {},
   "cell_type": "markdown",
   "id": "5a27a1c8",
   "metadata": {},
   "source": [
    "The `leafmap.zonal_stats()` function wraps the [`rasterstats.zonal_stats()`](https://pythonhosted.org/rasterstats/index.html) function and performs reprojection if necessary. \n",
    "\n",
    "By default, the zonal_stats function will return the following [statistics](https://pythonhosted.org/rasterstats/manual.html#statistics):\n",
    "\n",
    "* min\n",
    "* max\n",
    "* mean\n",
    "* count\n",
    "* \n",
    "Optionally, these statistics are also available.\n",
    "\n",
    "* sum\n",
    "* std\n",
    "* median\n",
    "* majority\n",
    "* minority\n",
    "* unique\n",
    "* range\n",
    "* nodata\n"
   ]
  },
  {
   "cell_type": "code",
   "execution_count": null,
   "id": "c4f0e3e7",
   "metadata": {},
   "outputs": [],
   "source": [
    "stats = leafmap.zonal_stats(gdf, hag, stats=['min', 'max', 'mean', 'count'])\n",
    "len(stats)"
   ]
  },
  {
   "cell_type": "code",
   "execution_count": null,
   "id": "13d9bd1d",
   "metadata": {},
   "outputs": [],
   "source": [
    "stats[:5]"
   ]
  },
  {
   "cell_type": "code",
   "execution_count": null,
   "id": "b300abd6",
   "metadata": {},
   "outputs": [],
   "source": [
    "stats_geojson = leafmap.zonal_stats(gdf, hag, stats=['mean', 'count'], geojson_out=True)\n",
    "len(stats_geojson)"
   ]
  },
  {
   "cell_type": "code",
   "execution_count": null,
   "id": "435e8d05",
   "metadata": {},
   "outputs": [],
   "source": [
    "stats_geojson[0]"
   ]
  },
  {
   "cell_type": "code",
   "execution_count": null,
   "id": "cc78e395",
   "metadata": {},
   "outputs": [],
   "source": [
    "stats_gdf = leafmap.zonal_stats(gdf, hag, stats=['mean', 'count'], gdf_out=True)\n",
    "len(stats_gdf)"
   ]
  },
  {
   "cell_type": "code",
   "execution_count": null,
   "id": "5841408e",
   "metadata": {},
   "outputs": [],
   "source": [
    "stats_gdf.head()"
   ]
  },
  {
   "cell_type": "code",
   "execution_count": null,
   "id": "d274efec",
   "metadata": {},
   "outputs": [],
   "source": [
    "m = leafmap.Map()\n",
    "m.add_gdf(stats_gdf, layer_name='Zonal Stats')\n",
    "m"
   ]
  }
 ],
 "metadata": {
  "kernelspec": {
   "display_name": "Python 3",
   "language": "python",
   "name": "python3"
  },
  "language_info": {
   "codemirror_mode": {
    "name": "ipython",
    "version": 3
   },
   "file_extension": ".py",
   "mimetype": "text/x-python",
   "name": "python",
   "nbconvert_exporter": "python",
   "pygments_lexer": "ipython3",
   "version": "3.10.8"
  }
 },
 "nbformat": 4,
 "nbformat_minor": 5
}
