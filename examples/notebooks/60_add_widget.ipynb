{
 "cells": [
  {
   "cell_type": "markdown",
   "id": "2b972537",
   "metadata": {},
   "source": [
    "[![image](https://jupyterlite.rtfd.io/en/latest/_static/badge.svg)](https://demo.leafmap.org/lab/index.html?path=notebooks/60_add_widget.ipynb)\n",
    "[![image](https://colab.research.google.com/assets/colab-badge.svg)](https://githubtocolab.com/giswqs/leafmap/blob/master/examples/notebooks/60_add_widget.ipynb)\n",
    "[![image](https://mybinder.org/badge_logo.svg)](https://gishub.org/leafmap-binder)\n",
    "\n",
    "Uncomment the following line to install [leafmap](https://leafmap.org) if needed."
   ]
  },
  {
   "cell_type": "code",
   "execution_count": null,
   "id": "82792e5a",
   "metadata": {},
   "outputs": [],
   "source": [
    "# !pip install -U leafmap"
   ]
  },
  {
   "cell_type": "code",
   "execution_count": null,
   "id": "2faeb693",
   "metadata": {},
   "outputs": [],
   "source": [
    "import leafmap"
   ]
  },
  {
   "cell_type": "markdown",
   "id": "02491bea",
   "metadata": {},
   "source": [
    "Add text."
   ]
  },
  {
   "cell_type": "code",
   "execution_count": null,
   "id": "3f7e6452",
   "metadata": {},
   "outputs": [],
   "source": [
    "m = leafmap.Map()\n",
    "text = 'Hello World'\n",
    "m.add_text(text, position='bottomright')\n",
    "m"
   ]
  },
  {
   "cell_type": "markdown",
   "id": "48e1b43b-9513-497b-bcaa-6bc04c32746d",
   "metadata": {},
   "source": [
    "Customize text style."
   ]
  },
  {
   "cell_type": "code",
   "execution_count": null,
   "id": "5b381aef-29e7-4de6-b565-4405d26be6a4",
   "metadata": {},
   "outputs": [],
   "source": [
    "m = leafmap.Map()\n",
    "text = 'Hello World'\n",
    "\n",
    "params = {\n",
    "    'fontsize': 30,\n",
    "    'fontcolor': 'blue',\n",
    "    'bold': True,\n",
    "    'padding': '10px',\n",
    "    'background': True,\n",
    "    'bg_color': 'white',\n",
    "    'border_radius': '5px',\n",
    "    'position': 'bottomright',\n",
    "}\n",
    "\n",
    "m.add_text(text, **params)\n",
    "m"
   ]
  },
  {
   "cell_type": "code",
   "execution_count": null,
   "id": "b138b974-3c47-490e-b3fc-8f73cbcdc3df",
   "metadata": {},
   "outputs": [],
   "source": [
    "m = leafmap.Map(measure_control=False, scale_control=False)\n",
    "left = 'ESA WorldCover 2021 S2 FCC'\n",
    "right = 'ESA WorldCover 2021 S2 TCC'\n",
    "m.split_map(left_layer=left, right_layer=right)\n",
    "m.add_text(left, position='bottomleft')\n",
    "m.add_text(right, position='bottomright')\n",
    "m"
   ]
  },
  {
   "cell_type": "markdown",
   "id": "a203ecea-b20a-4ebc-b4d5-723394683172",
   "metadata": {},
   "source": [
    "Add image."
   ]
  },
  {
   "cell_type": "code",
   "execution_count": null,
   "id": "0d07ad99-fd77-44ac-9fe4-f8b777f66f8f",
   "metadata": {},
   "outputs": [],
   "source": [
    "m = leafmap.Map()\n",
    "image = 'https://i.imgur.com/LmTETPX.png'\n",
    "m.add_image(image, position='bottomright')\n",
    "m"
   ]
  },
  {
   "cell_type": "markdown",
   "id": "3a75b216-b2f2-4f9c-95db-7b978d4bd21d",
   "metadata": {},
   "source": [
    "Add HTML."
   ]
  },
  {
   "cell_type": "code",
   "execution_count": null,
   "id": "5a3fd3bc-9872-486a-92f3-8568cc47c288",
   "metadata": {},
   "outputs": [],
   "source": [
    "m = leafmap.Map()\n",
    "html = \"\"\"\n",
    "<h2>Jupyter Logo</h2>\n",
    "<img src=\"https://i.imgur.com/LmTETPX.png\">\n",
    "\"\"\"\n",
    "m.add_html(html, position='bottomright')\n",
    "m"
   ]
  },
  {
   "cell_type": "markdown",
   "id": "b2caaf3d-3b67-4015-ad0a-8ca35fff0fe2",
   "metadata": {},
   "source": [
    "Add widget."
   ]
  },
  {
   "cell_type": "code",
   "execution_count": null,
   "id": "51ea30ad-9d43-4d33-80b0-e31a8f2f5f3c",
   "metadata": {},
   "outputs": [],
   "source": [
    "import numpy as np\n",
    "import matplotlib.pyplot as plt"
   ]
  },
  {
   "cell_type": "code",
   "execution_count": null,
   "id": "5f4872f7-5920-4c11-8655-14b007886c8a",
   "metadata": {},
   "outputs": [],
   "source": [
    "# Data for plotting\n",
    "t = np.arange(0.0, 2.0, 0.01)\n",
    "s = 1 + np.sin(2 * np.pi * t)\n",
    "\n",
    "fig, ax = plt.subplots(figsize=(4, 3))\n",
    "ax.plot(t, s)\n",
    "\n",
    "ax.set(\n",
    "    xlabel='time (s)', ylabel='voltage (mV)', title='About as simple as it gets, folks'\n",
    ")\n",
    "ax.grid()"
   ]
  },
  {
   "cell_type": "code",
   "execution_count": null,
   "id": "3e9cb487-c233-46f7-bdc6-13ca95256755",
   "metadata": {},
   "outputs": [],
   "source": [
    "m = leafmap.Map()\n",
    "m.add_widget(fig, position='bottomright')\n",
    "m"
   ]
  }
 ],
 "metadata": {
  "kernelspec": {
   "display_name": "Python 3",
   "language": "python",
   "name": "python3"
  },
  "language_info": {
   "codemirror_mode": {
    "name": "ipython",
    "version": 3
   },
   "file_extension": ".py",
   "mimetype": "text/x-python",
   "name": "python",
   "nbconvert_exporter": "python",
   "pygments_lexer": "ipython3",
   "version": "3.9.13"
  }
 },
 "nbformat": 4,
 "nbformat_minor": 5
}
