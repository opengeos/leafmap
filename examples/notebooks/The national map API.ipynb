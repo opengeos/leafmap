{
 "cells": [
  {
   "cell_type": "code",
   "execution_count": 1,
   "id": "69503c4a-bfce-40c9-abf9-665571cd3e47",
   "metadata": {},
   "outputs": [
    {
     "data": {
      "text/plain": [
       "['US Topo Current',\n",
       " 'US Topo Historical',\n",
       " 'National Elevation Dataset (NED) 1 arc-second',\n",
       " 'Digital Elevation Model (DEM) 1 meter',\n",
       " 'National Elevation Dataset (NED) 1/3 arc-second',\n",
       " 'National Elevation Dataset (NED) 1/9 arc-second',\n",
       " 'National Elevation Dataset (NED) Alaska 2 arc-second',\n",
       " 'Alaska IFSAR 5 meter DEM',\n",
       " 'National Elevation Dataset (NED) 1/3 arc-second - Contours',\n",
       " 'Original Product Resolution (OPR) Digital Elevation Model (DEM)',\n",
       " 'Ifsar Digital Surface Model (DSM)',\n",
       " 'Ifsar Orthorectified Radar Image (ORI)',\n",
       " 'Lidar Point Cloud (LPC)',\n",
       " 'National Hydrography Dataset Plus High Resolution (NHDPlus HR)',\n",
       " 'National Hydrography Dataset (NHD) Best Resolution',\n",
       " 'National Watershed Boundary Dataset (WBD)',\n",
       " 'Small-scale Datasets - Boundaries',\n",
       " 'Small-scale Datasets - Contours',\n",
       " 'Small-scale Datasets - Hydrography',\n",
       " 'Small-scale Datasets - Transportation',\n",
       " 'Topobathymetric Lidar DEM',\n",
       " 'Topobathymetric Lidar Point Cloud']"
      ]
     },
     "execution_count": 1,
     "metadata": {},
     "output_type": "execute_result"
    }
   ],
   "source": [
    "import requests\n",
    "import json\n",
    "\n",
    "class The_national_map_USGS():\n",
    "\n",
    "    def __init__(self):\n",
    "        self.api_endpoint = r'https://tnmaccess.nationalmap.gov/api/v1/'\n",
    "        self.datasets = self.datasets_full()\n",
    "    \n",
    "    def datasets_full(self):\n",
    "        try:\n",
    "            return requests.get(f'{self.api_endpoint}datasets?').json()\n",
    "        except:\n",
    "            print('Failed to load metadata from The National Map API endpoint V1')\n",
    "            return []\n",
    "    @property\n",
    "    def datatypes(self):\n",
    "        return set(i['displayName'] for ds in self.datasets for i in ds['formats'])\n",
    "    \n",
    "    @property\n",
    "    def collections(self):\n",
    "        return [y['sbDatasetTag'] for x in self.datasets for y in x['tags']]\n",
    "\n",
    "def find_tiles(collection=None, datatype=None, keyword=None, region=[]):\n",
    "    TNM = The_national_map_USGS()\n",
    "    \n",
    "    if collection:\n",
    "        assert collection in TNM.collections, f'Unknown collection, must be element of {TNM.collections}'\n",
    "    if datatype:\n",
    "        assert datatype in TNM.datatypes, f'Unknown datatypes, must be element of {TNM.datatypes}'\n",
    " \n",
    "    def clean_list(x):\n",
    "        return ','.join(' '.join(map(str,point)) for point in x)\n",
    "    \n",
    "    parameters = {'prodFormats': datatype,\n",
    "                  'datasets': collection,\n",
    "                  'q':keyword,\n",
    "                  'polygon': clean_list(region)}\n",
    "    \n",
    "    response = requests.get(f'{TNM.api_endpoint}products?', params=parameters)\n",
    "    if response.status_code//100 == 2:\n",
    "        return response.json()\n",
    "    return {}\n",
    "\n",
    "U = The_national_map_USGS()\n",
    "U.collections"
   ]
  },
  {
   "cell_type": "code",
   "execution_count": 2,
   "id": "eca5e9a7-0fc0-4fdf-8de3-3ce37e6cfb95",
   "metadata": {},
   "outputs": [
    {
     "data": {
      "text/plain": [
       "True"
      ]
     },
     "execution_count": 2,
     "metadata": {},
     "output_type": "execute_result"
    }
   ],
   "source": [
    "example_url = r\"https://tnmaccess.nationalmap.gov/api/v1/products?prodFormats=LAS,LAZ&datasets=Lidar%20Point%20Cloud%20(LPC)&polygon=-104.94262695312236%2041.52867510196275,-102.83325195312291%2041.52867510196275,-102.83325195312291%2040.45065268246805,-104.94262695312236%2040.45065268246805,%20-104.94262695312236%2041.52867510196275&\"\n",
    "example_url = requests.get(example_url).json()    \n",
    "\n",
    "paras = {'datatype':'LAS,LAZ', \n",
    "         'collection':'Lidar Point Cloud (LPC)',\n",
    "         'region': [\n",
    "                     (-104.94262695312236, 41.52867510196275),\n",
    "                     (-102.83325195312291, 41.52867510196275),\n",
    "                     (-102.83325195312291, 40.45065268246805),\n",
    "                     (-104.94262695312236, 40.45065268246805),\n",
    "                     (-104.94262695312236, 41.52867510196275),\n",
    "                   ]\n",
    "        }\n",
    "\n",
    "U = The_national_map_USGS()\n",
    "z = find_tiles(**paras)\n",
    "example_url['total'] == z['total']"
   ]
  },
  {
   "cell_type": "code",
   "execution_count": 3,
   "id": "7ecddd6d-bb4d-48e4-83e1-bac44d6d0bfa",
   "metadata": {},
   "outputs": [
    {
     "data": {
      "text/plain": [
       "True"
      ]
     },
     "execution_count": 3,
     "metadata": {},
     "output_type": "execute_result"
    }
   ],
   "source": [
    "paras = {'datatype':'LAS,LAZ', \n",
    "         'keyword':'LPC',\n",
    "         'region': [\n",
    "                     (-104.94262695312236, 41.52867510196275),\n",
    "                     (-102.83325195312291, 41.52867510196275),\n",
    "                     (-102.83325195312291, 40.45065268246805),\n",
    "                     (-104.94262695312236, 40.45065268246805),\n",
    "                     (-104.94262695312236, 41.52867510196275),\n",
    "                   ]\n",
    "        }\n",
    "\n",
    "U = The_national_map_USGS()\n",
    "z = find_tiles(**paras)\n",
    "example_url['total'] == z['total']"
   ]
  },
  {
   "cell_type": "code",
   "execution_count": 4,
   "id": "9a4c70d3-4d9c-4b8d-a7d8-27f506075077",
   "metadata": {},
   "outputs": [
    {
     "data": {
      "text/plain": [
       "{'title': 'USGS Lidar Point Cloud CO SoPlatteRiver-Lot1 2013 13TFE627477 LAS 2015',\n",
       " 'moreInfo': 'Lidar (Light detection and ranging) discrete-return point cloud data are available in the American Society for Photogrammetry and Remote Sensing (ASPRS) LAS format. The LAS format is a standardized binary format for storing 3-dimensional point cloud data and point attributes along with header information and variable length records specific to the data. Millions of data points are stored as a 3-dimensional data cloud as a series of x (longitude), y (latitude) and z (elevation) points. A few older projects in this collection are in ASCII format. Please refer to http://www.asprs.org/Committee-General/LASer-LAS-File-Format-Exchange-Activities.html for additional information.',\n",
       " 'sourceId': '5a801f46e4b00f54eb2a10dc',\n",
       " 'sourceName': 'ScienceBase',\n",
       " 'sourceOriginId': None,\n",
       " 'sourceOriginName': 'gda',\n",
       " 'metaUrl': 'https://www.sciencebase.gov/catalog/item/5a801f46e4b00f54eb2a10dc',\n",
       " 'vendorMetaUrl': 'https://thor-f5.er.usgs.gov/ngtoc/metadata/waf/elevation/lidar_point_cloud/laz/USGS_LPC_CO_SoPlatteRiver_Lot1_2013_LAS_2015/USGS_LPC_CO_SoPlatteRiver_Lot1_2013_13TFE627477_LAS_2015_meta.xml',\n",
       " 'publicationDate': '2015-06-22',\n",
       " 'lastUpdated': '2022-02-04T06:37:01.725-07:00',\n",
       " 'dateCreated': '2018-02-11T03:47:34.444-07:00',\n",
       " 'sizeInBytes': None,\n",
       " 'extent': 'Varies',\n",
       " 'format': 'LAZ',\n",
       " 'downloadURL': 'https://rockyweb.usgs.gov/vdelivery/Datasets/Staged/Elevation/LPC/Projects/USGS_LPC_CO_SoPlatteRiver_Lot1_2013_LAS_2015/laz/USGS_LPC_CO_SoPlatteRiver_Lot1_2013_13TFE627477_LAS_2015.laz',\n",
       " 'downloadURLRaster': None,\n",
       " 'previewGraphicURL': 'https://prd-tnm.s3.amazonaws.com/StagedProducts/Elevation/LPC/browse/USGS_LPC_CO_SoPlatteRiver_Lot1_2013_13TFE627477_LAS_2015_thumb.jpg',\n",
       " 'downloadLazURL': 'https://rockyweb.usgs.gov/vdelivery/Datasets/Staged/Elevation/LPC/Projects/USGS_LPC_CO_SoPlatteRiver_Lot1_2013_LAS_2015/laz/USGS_LPC_CO_SoPlatteRiver_Lot1_2013_13TFE627477_LAS_2015.laz',\n",
       " 'urls': {'LAZ': 'https://rockyweb.usgs.gov/vdelivery/Datasets/Staged/Elevation/LPC/Projects/USGS_LPC_CO_SoPlatteRiver_Lot1_2013_LAS_2015/laz/USGS_LPC_CO_SoPlatteRiver_Lot1_2013_13TFE627477_LAS_2015.laz'},\n",
       " 'datasets': [],\n",
       " 'boundingBox': {'minX': -103.496705935362,\n",
       "  'maxX': -103.484712074143,\n",
       "  'minY': 40.4382258600637,\n",
       "  'maxY': 40.4469402549868},\n",
       " 'bestFitIndex': 0.0,\n",
       " 'body': 'Lidar (Light detection and ranging) discrete-return point cloud data are available in the American Society for Photogrammetry and Remote Sensing (ASPRS) LAS format. The LAS format is a standardized binary format for storing 3-dimensional point cloud data and point attributes along with header information and variable length records specific to the data. Millions of data points are stored as a 3-dimensional data cloud as a series of x (longitude), y (latitude) and z (elevation) points. A few older projects in this collection are in ASCII format.  Please refer to http://www.asprs.org/Committee-General/LASer-LAS-File-Format-Exchange-Activities.html for additional information. ',\n",
       " 'processingUrl': 'processingUrl',\n",
       " 'modificationInfo': '2022-02-04'}"
      ]
     },
     "execution_count": 4,
     "metadata": {},
     "output_type": "execute_result"
    }
   ],
   "source": [
    "z['items'][0]"
   ]
  }
 ],
 "metadata": {
  "kernelspec": {
   "display_name": "Python 3 (ipykernel)",
   "language": "python",
   "name": "python3"
  },
  "language_info": {
   "codemirror_mode": {
    "name": "ipython",
    "version": 3
   },
   "file_extension": ".py",
   "mimetype": "text/x-python",
   "name": "python",
   "nbconvert_exporter": "python",
   "pygments_lexer": "ipython3",
   "version": "3.10.6"
  }
 },
 "nbformat": 4,
 "nbformat_minor": 5
}
