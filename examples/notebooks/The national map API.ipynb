{
 "cells": [
  {
   "cell_type": "markdown",
   "id": "84508103-2d82-4850-a18b-26acf23751f0",
   "metadata": {},
   "source": [
    "# USGS TNW API\n",
    "\n",
    "The national map is a collection of topological datasets, maintained by the USGS. \n",
    "\n",
    "It provides an API endpoint which can be used to find downloadable links for the products offered.\n",
    "- Full description of datasets available can retrieved.\n",
    "  This consists of metadata such as detail description and publication dates.\n",
    "- A wide range of dataformats are availble\n",
    "\n",
    "More complete documentation for the API can be found at\n",
    "https://apps.nationalmap.gov/tnmaccess/#/\n",
    "\n"
   ]
  },
  {
   "cell_type": "code",
   "execution_count": 1,
   "id": "9a4c70d3-4d9c-4b8d-a7d8-27f506075077",
   "metadata": {},
   "outputs": [],
   "source": [
    "import requests\n",
    "import json\n",
    "\n",
    "class The_national_map_USGS():\n",
    "    \"\"\"\n",
    "    The national map is a collection of topological datasets, maintained by the USGS. \n",
    "\n",
    "    It provides an API endpoint which can be used to find downloadable links for the products offered.\n",
    "        - Full description of datasets available can retrieved.\n",
    "          This consists of metadata such as detail description and publication dates.\n",
    "        - A wide range of dataformats are availble\n",
    "\n",
    "    More complete documentation for the API can be found at\n",
    "        https://apps.nationalmap.gov/tnmaccess/#/\n",
    "    \"\"\"\n",
    "\n",
    "    def __init__(self):\n",
    "        self.api_endpoint = r'https://tnmaccess.nationalmap.gov/api/v1/'\n",
    "        self.DS = self.datasets_full()\n",
    "    \n",
    "    def datasets_full(self):\n",
    "        \"\"\"\n",
    "        Full description of datasets provided.\n",
    "        Returns a JSON or empty list.\n",
    "        \"\"\"\n",
    "        try:\n",
    "            return requests.get(f'{self.api_endpoint}datasets?').json()\n",
    "        except:\n",
    "            print('Failed to load metadata from The National Map API endpoint V1')\n",
    "            return []\n",
    "\n",
    "    @property\n",
    "    def prodFormats(self):\n",
    "        \"\"\"\n",
    "        Return all datatypes available in any of the collections. \n",
    "        Note that \"All\" is only peculiar to one dataset. \n",
    "        \"\"\"\n",
    "        return set(i['displayName'] for ds in self.DS for i in ds['formats'])\n",
    "\n",
    "    @property\n",
    "    def datasets(self):\n",
    "        \"\"\"\n",
    "        Returns a list of dataset tags (most common human readable self description for specific datasets).\n",
    "        \"\"\"\n",
    "        return set(y['sbDatasetTag'] for x in self.DS for y in x['tags'])\n",
    "\n",
    "    def find_tiles(self, \n",
    "                   bbox:list[float] = None, \n",
    "                   polygon:list[tuple[float,float]] = None, \n",
    "                   datasets:list[str] | str = [], \n",
    "                   prodFormats:list[str] | str = [],\n",
    "                   prodExtents:list[str] | str = [], \n",
    "                   q:str = None, \n",
    "                   dateType:str = None, \n",
    "                   start:str = None, \n",
    "                   end:str = None, \n",
    "                   offset:int = 0, \n",
    "                   max:int = None, \n",
    "                   outputFormat:str = 'JSON', \n",
    "                   polyType:str = None, \n",
    "                   polyCode:str = None, \n",
    "                   extentQuery:int = None) -> dict:\n",
    "        \"\"\"\n",
    "        Possible search parameters (kwargs) support by API\n",
    "\n",
    "        Parameter               Values                      \n",
    "            Description\n",
    "        ---------------------------------------------------------------------------------------------------    \n",
    "        bbox                    'minx, miny, maxx, maxy'\n",
    "            Geographic longitude/latitude values expressed in  decimal degrees in a comma-delimited list.\n",
    "        polygon                 '[x,y x,y x,y x,y x,y]'       \n",
    "            Polygon, longitude/latitude values expressed in decimal degrees in a space-delimited list.\n",
    "        datasets                See: Datasets (Optional)       \n",
    "            Comma-delimited list of valid dataset tag names (sbDatasetTag)\n",
    "            From https://apps.nationalmap.gov/tnmaccess/#/product\n",
    "        prodFormats             See: Product Formats (Optional)\n",
    "            Comma-delimited list of dataset-specific formats\n",
    "            From https://apps.nationalmap.gov/tnmaccess/#/product\n",
    "        prodExtents             See: Product Extents (Optional)\n",
    "            Comma-delimited list of dataset-specific extents\n",
    "            From https://apps.nationalmap.gov/tnmaccess/#/product\n",
    "        q                       free text \n",
    "            Text input which can be used to filter by product titles and text descriptions.\n",
    "        dateType                dateCreated | lastUpdated | Publication \n",
    "            Type of date to search by.\n",
    "        start                   'YYYY-MM-DD' \n",
    "            Start date\n",
    "        end                     'YYYY-MM-DD' \n",
    "            End date (required if start date is provided)\n",
    "        offset                  integer \n",
    "            Offset into paginated results - default=0\n",
    "        max                     integer \n",
    "            Number of results returned\n",
    "        outputFormat            JSON | CSV | pjson\n",
    "            Default=JSON\n",
    "        polyType                state | huc2 | huc4 | huc8 \n",
    "            Well Known Polygon Type. Use this parameter to deliver data by state or HUC\n",
    "            (hydrologic unit codes defined by the Watershed Boundary Dataset/WBD)\n",
    "        polyCode                state FIPS code or huc number \n",
    "            Well Known Polygon Code. This value needs to coordinate with the polyType parameter.\n",
    "        extentQuery             integer \n",
    "            A Polygon code in the science base system, typically from an uploaded shapefile\n",
    "        \"\"\"\n",
    "\n",
    "       \n",
    "        # call locals before creating new locals\n",
    "        used_locals = {k:v for k,v in locals().items() if v and k != 'self'}\n",
    "\n",
    "        # Parsing\n",
    "    \n",
    "        def convert_polygon(x):\n",
    "            return ','.join(' '.join(map(str,point)) for point in x)\n",
    "        if polygon:\n",
    "            used_locals['polygon'] = convert_polygon(polygon)        \n",
    "        \n",
    "        # Partial validation\n",
    "        # Fetch list seems broken in API ???, only takes list with 1 item or str.\n",
    "        # Could be map AND instead of OR for processing list\n",
    "\n",
    "        assert set(datasets).issubset(self.datasets) or datasets in self.datasets, f'Unknown datasets, must be elements of {self.datasets}'\n",
    "        assert set(prodFormats).issubset(self.prodFormats) or prodFormats in self.prodFormats, f'Unknown prodFormats, must be element of {self.prodFormats}'\n",
    "\n",
    "        # Validations handled better (f.e. psjon) by API endpoint error responses\n",
    "\n",
    "        '''\n",
    "        import datetime\n",
    "        def validate_date(date_text):\n",
    "            try:\n",
    "                datetime.datetime.strptime(date_text, '%Y-%m-%d')\n",
    "                return True\n",
    "            except ValueError:\n",
    "                return False\n",
    "\n",
    "        can = {'JSON', 'CSV'} # psjon added\n",
    "        assert not outputFormat or outputFormat in can, f'Unknown outputFormat, must be element of {can}'\n",
    "        can = {'dateCreated', 'lastUpdated', 'Publication'}\n",
    "        assert not dateType or dateType in can, f'Unknown dataType, must be element of {can}'       \n",
    "        if start or end or dateType:\n",
    "            assert start and end and dateType and validate_date(start) and validate_date(end), \"\"\"\n",
    "            Argument 'start', 'end' and 'dateType' should be used together, \n",
    "            and 'start', 'end' should be formatted as YYYY-MM-DD\"\"\"\n",
    "        '''\n",
    "            \n",
    "        # Fetch response\n",
    "\n",
    "        response = requests.get(f'{self.api_endpoint}products?', params=used_locals)\n",
    "        if response.status_code//100 == 2:\n",
    "            return response.json()\n",
    "        else:\n",
    "            print(response.json())\n",
    "        return {}"
   ]
  },
  {
   "cell_type": "markdown",
   "id": "34acd5ff-6efd-4656-aae6-5aa73039865d",
   "metadata": {},
   "source": [
    "## Example usage"
   ]
  },
  {
   "cell_type": "code",
   "execution_count": 2,
   "id": "040f2cef-43ea-4b6d-bfc5-e08c398bbf34",
   "metadata": {},
   "outputs": [],
   "source": [
    "U = The_national_map_USGS()"
   ]
  },
  {
   "cell_type": "code",
   "execution_count": 3,
   "id": "fa72f5b6-d7f8-4c24-b6b8-492563aa1e99",
   "metadata": {},
   "outputs": [
    {
     "data": {
      "text/plain": [
       "{'Alaska IFSAR 5 meter DEM',\n",
       " 'Digital Elevation Model (DEM) 1 meter',\n",
       " 'Ifsar Digital Surface Model (DSM)',\n",
       " 'Ifsar Orthorectified Radar Image (ORI)',\n",
       " 'Lidar Point Cloud (LPC)',\n",
       " 'National Elevation Dataset (NED) 1 arc-second',\n",
       " 'National Elevation Dataset (NED) 1/3 arc-second',\n",
       " 'National Elevation Dataset (NED) 1/3 arc-second - Contours',\n",
       " 'National Elevation Dataset (NED) 1/9 arc-second',\n",
       " 'National Elevation Dataset (NED) Alaska 2 arc-second',\n",
       " 'National Hydrography Dataset (NHD) Best Resolution',\n",
       " 'National Hydrography Dataset Plus High Resolution (NHDPlus HR)',\n",
       " 'National Watershed Boundary Dataset (WBD)',\n",
       " 'Original Product Resolution (OPR) Digital Elevation Model (DEM)',\n",
       " 'Small-scale Datasets - Boundaries',\n",
       " 'Small-scale Datasets - Contours',\n",
       " 'Small-scale Datasets - Hydrography',\n",
       " 'Small-scale Datasets - Transportation',\n",
       " 'Topobathymetric Lidar DEM',\n",
       " 'Topobathymetric Lidar Point Cloud',\n",
       " 'US Topo Current',\n",
       " 'US Topo Historical'}"
      ]
     },
     "execution_count": 3,
     "metadata": {},
     "output_type": "execute_result"
    }
   ],
   "source": [
    "U.datasets"
   ]
  },
  {
   "cell_type": "code",
   "execution_count": 4,
   "id": "b1064c01-2aa2-491a-abb5-24c56ea5f3ed",
   "metadata": {},
   "outputs": [
    {
     "data": {
      "text/plain": [
       "{'All',\n",
       " 'FileGDB',\n",
       " 'GeoPDF',\n",
       " 'GeoPackage',\n",
       " 'GeoTIFF',\n",
       " 'GeoTIFF, IMG',\n",
       " 'JPEG2000',\n",
       " 'LAS,LAZ',\n",
       " 'Shapefile',\n",
       " 'TIFF',\n",
       " 'TXT (pipes)'}"
      ]
     },
     "execution_count": 4,
     "metadata": {},
     "output_type": "execute_result"
    }
   ],
   "source": [
    "U.prodFormats"
   ]
  },
  {
   "cell_type": "markdown",
   "id": "0d187b1c-fb47-4e15-9a48-266ce8c60348",
   "metadata": {},
   "source": [
    "## API error handling"
   ]
  },
  {
   "cell_type": "code",
   "execution_count": 5,
   "id": "1d1b11f0-6d12-45eb-a2ca-5014ee88959e",
   "metadata": {},
   "outputs": [
    {
     "name": "stdout",
     "output_type": "stream",
     "text": [
      "{'errorMessage': \"[BadRequest] 'Value '2022-31-01' of property end is not a valid date (YYYY-MM-DD)' \"}\n"
     ]
    },
    {
     "data": {
      "text/plain": [
       "{}"
      ]
     },
     "execution_count": 5,
     "metadata": {},
     "output_type": "execute_result"
    }
   ],
   "source": [
    "U.find_tiles(start='2021-01-01',end='2022-31-01',q='NED',outputFormat='JSON')"
   ]
  },
  {
   "cell_type": "code",
   "execution_count": 6,
   "id": "f3519875-5615-4dd2-9d17-294d2658e196",
   "metadata": {},
   "outputs": [
    {
     "name": "stdout",
     "output_type": "stream",
     "text": [
      "{'errorMessage': \"[BadRequest] 'date type is required when start date and enddate are provided' \"}\n"
     ]
    },
    {
     "data": {
      "text/plain": [
       "{}"
      ]
     },
     "execution_count": 6,
     "metadata": {},
     "output_type": "execute_result"
    }
   ],
   "source": [
    "U.find_tiles(start='2021-01-01',end='2022-01-01',q='NED',outputFormat='JSON')"
   ]
  },
  {
   "cell_type": "markdown",
   "id": "721f6dfc-493e-4aa9-850c-33f9acdd9408",
   "metadata": {},
   "source": [
    "API error handling is better than the API docs (pjson not mentioned as possible format)"
   ]
  },
  {
   "cell_type": "code",
   "execution_count": 7,
   "id": "539838e4-0025-4bd0-ab39-83e0105bf3c6",
   "metadata": {},
   "outputs": [
    {
     "name": "stdout",
     "output_type": "stream",
     "text": [
      "{'errorMessage': \"[BadRequest] 'Value 'XLS' of property outputFormat must be csv, pjson, or json' \"}\n"
     ]
    },
    {
     "data": {
      "text/plain": [
       "{}"
      ]
     },
     "execution_count": 7,
     "metadata": {},
     "output_type": "execute_result"
    }
   ],
   "source": [
    "U.find_tiles(start='2021-01-01',end='2022-01-01',dateType='dateCreated',q='NED',outputFormat='XLS')"
   ]
  },
  {
   "cell_type": "markdown",
   "id": "ab6b9ccb-9b36-4de9-a25d-2055e3b1da78",
   "metadata": {},
   "source": [
    "## Get results\n",
    "\n",
    "Provides detailed meta data regarding tiles.\n",
    "\n",
    "- moreInfo: Short description of the dataset\n",
    "- metaUrl: describing the dataset properties as human readable\n",
    "- vendorMetaUrl: describing the dataset properties as XML\n",
    "- downloadURL: download link to actual file\n",
    "- And many others (see below)\n",
    "- Available key-values can vary depending on dateset."
   ]
  },
  {
   "cell_type": "code",
   "execution_count": 8,
   "id": "8c778cf8-8cdb-4e57-8cf2-51f7b1bc289d",
   "metadata": {},
   "outputs": [
    {
     "data": {
      "text/plain": [
       "{'title': 'USGS Lidar Point Cloud CO SoPlatteRiver-Lot1 2013 13TFE627477 LAS 2015',\n",
       " 'moreInfo': 'Lidar (Light detection and ranging) discrete-return point cloud data are available in the American Society for Photogrammetry and Remote Sensing (ASPRS) LAS format. The LAS format is a standardized binary format for storing 3-dimensional point cloud data and point attributes along with header information and variable length records specific to the data. Millions of data points are stored as a 3-dimensional data cloud as a series of x (longitude), y (latitude) and z (elevation) points. A few older projects in this collection are in ASCII format. Please refer to http://www.asprs.org/Committee-General/LASer-LAS-File-Format-Exchange-Activities.html for additional information.',\n",
       " 'sourceId': '5a801f46e4b00f54eb2a10dc',\n",
       " 'sourceName': 'ScienceBase',\n",
       " 'sourceOriginId': None,\n",
       " 'sourceOriginName': 'gda',\n",
       " 'metaUrl': 'https://www.sciencebase.gov/catalog/item/5a801f46e4b00f54eb2a10dc',\n",
       " 'vendorMetaUrl': 'https://thor-f5.er.usgs.gov/ngtoc/metadata/waf/elevation/lidar_point_cloud/laz/USGS_LPC_CO_SoPlatteRiver_Lot1_2013_LAS_2015/USGS_LPC_CO_SoPlatteRiver_Lot1_2013_13TFE627477_LAS_2015_meta.xml',\n",
       " 'publicationDate': '2015-06-22',\n",
       " 'lastUpdated': '2022-02-04T06:37:01.725-07:00',\n",
       " 'dateCreated': '2018-02-11T03:47:34.444-07:00',\n",
       " 'sizeInBytes': None,\n",
       " 'extent': 'Varies',\n",
       " 'format': 'LAZ',\n",
       " 'downloadURL': 'https://rockyweb.usgs.gov/vdelivery/Datasets/Staged/Elevation/LPC/Projects/USGS_LPC_CO_SoPlatteRiver_Lot1_2013_LAS_2015/laz/USGS_LPC_CO_SoPlatteRiver_Lot1_2013_13TFE627477_LAS_2015.laz',\n",
       " 'downloadURLRaster': None,\n",
       " 'previewGraphicURL': 'https://prd-tnm.s3.amazonaws.com/StagedProducts/Elevation/LPC/browse/USGS_LPC_CO_SoPlatteRiver_Lot1_2013_13TFE627477_LAS_2015_thumb.jpg',\n",
       " 'downloadLazURL': 'https://rockyweb.usgs.gov/vdelivery/Datasets/Staged/Elevation/LPC/Projects/USGS_LPC_CO_SoPlatteRiver_Lot1_2013_LAS_2015/laz/USGS_LPC_CO_SoPlatteRiver_Lot1_2013_13TFE627477_LAS_2015.laz',\n",
       " 'urls': {'LAZ': 'https://rockyweb.usgs.gov/vdelivery/Datasets/Staged/Elevation/LPC/Projects/USGS_LPC_CO_SoPlatteRiver_Lot1_2013_LAS_2015/laz/USGS_LPC_CO_SoPlatteRiver_Lot1_2013_13TFE627477_LAS_2015.laz'},\n",
       " 'datasets': [],\n",
       " 'boundingBox': {'minX': -103.496705935362,\n",
       "  'maxX': -103.484712074143,\n",
       "  'minY': 40.4382258600637,\n",
       "  'maxY': 40.4469402549868},\n",
       " 'bestFitIndex': 0.0,\n",
       " 'body': 'Lidar (Light detection and ranging) discrete-return point cloud data are available in the American Society for Photogrammetry and Remote Sensing (ASPRS) LAS format. The LAS format is a standardized binary format for storing 3-dimensional point cloud data and point attributes along with header information and variable length records specific to the data. Millions of data points are stored as a 3-dimensional data cloud as a series of x (longitude), y (latitude) and z (elevation) points. A few older projects in this collection are in ASCII format.  Please refer to http://www.asprs.org/Committee-General/LASer-LAS-File-Format-Exchange-Activities.html for additional information. ',\n",
       " 'processingUrl': 'processingUrl',\n",
       " 'modificationInfo': '2022-02-04'}"
      ]
     },
     "execution_count": 8,
     "metadata": {},
     "output_type": "execute_result"
    }
   ],
   "source": [
    "paras = {'prodFormats':'LAS,LAZ', \n",
    "         'datasets':['Lidar Point Cloud (LPC)'],\n",
    "         'polygon': [\n",
    "                     (-104.94262695312236, 41.52867510196275),\n",
    "                     (-102.83325195312291, 41.52867510196275),\n",
    "                     (-102.83325195312291, 40.45065268246805),\n",
    "                     (-104.94262695312236, 40.45065268246805),\n",
    "                     (-104.94262695312236, 41.52867510196275),\n",
    "                   ]\n",
    "        }\n",
    "\n",
    "U.find_tiles(**paras)['items'][0]"
   ]
  },
  {
   "cell_type": "code",
   "execution_count": 9,
   "id": "3afc78c2-e8bb-4daa-932d-8ca9417276c3",
   "metadata": {},
   "outputs": [
    {
     "data": {
      "text/plain": [
       "{'title': 'USGS 1/3 Arc Second n47w069 20210611',\n",
       " 'moreInfo': 'This tile of the 3D Elevation Program (3DEP) seamless products is 1/3 Arc Second resolution. 3DEP data serve as the elevation layer of The National Map, and provide basic elevation information for Earth science studies and mapping applications in the United States. Scientists and resource managers use 3DEP data for global change research, hydrologic modeling, resource monitoring, mapping and visualization, and many other applications. 3DEP data compose an elevation dataset that consists of seamless layers and a high resolution layer. Each of these layers consists of the best available raster elevation data of the conterminous United States, Alaska, Hawaii, territorial islands, Mexico and Canada. 3DEP data are updated continually as [...]',\n",
       " 'sourceId': '60d2c059d34e840986528938',\n",
       " 'sourceName': 'ScienceBase',\n",
       " 'sourceOriginId': None,\n",
       " 'sourceOriginName': 'gda',\n",
       " 'metaUrl': 'https://www.sciencebase.gov/catalog/item/60d2c059d34e840986528938',\n",
       " 'vendorMetaUrl': 'https://prd-tnm.s3.amazonaws.com/index.html?prefix=StagedProducts/Elevation/metadata/ME_CrownofMaine_2018_A18/ME_CrownofMaine_B2_2018',\n",
       " 'publicationDate': '2021-11-16',\n",
       " 'lastUpdated': '2021-11-30T23:29:58.886-07:00',\n",
       " 'dateCreated': '2021-06-22T23:02:17.798-06:00',\n",
       " 'sizeInBytes': 458281182,\n",
       " 'extent': '1 x 1 degree',\n",
       " 'format': 'GeoTIFF',\n",
       " 'downloadURL': 'https://prd-tnm.s3.amazonaws.com/StagedProducts/Elevation/13/TIFF/historical/n47w069/USGS_13_n47w069_20210611.tif',\n",
       " 'downloadURLRaster': None,\n",
       " 'previewGraphicURL': 'https://prd-tnm.s3.amazonaws.com/StagedProducts/Elevation/13/TIFF/historical/n47w069/USGS_13_n47w069_20210611.jpg',\n",
       " 'downloadLazURL': None,\n",
       " 'urls': {'TIFF': 'https://prd-tnm.s3.amazonaws.com/StagedProducts/Elevation/13/TIFF/historical/n47w069/USGS_13_n47w069_20210611.tif'},\n",
       " 'datasets': [],\n",
       " 'boundingBox': {'minX': -69.0005555557936,\n",
       "  'maxX': -67.99944444360551,\n",
       "  'minY': 45.999444443707034,\n",
       "  'maxY': 47.00055555589512},\n",
       " 'bestFitIndex': 0.0,\n",
       " 'body': 'This tile of the 3D Elevation Program (3DEP) seamless products is 1/3 Arc Second resolution.  3DEP data serve as the elevation layer of The National Map, and provide basic elevation information for Earth science studies and mapping applications in the United States. Scientists and resource managers use 3DEP data for global change research, hydrologic modeling, resource monitoring, mapping and visualization, and many other applications. 3DEP data compose an elevation dataset that consists of seamless layers and a high resolution layer.  Each of these layers consists of the best available raster elevation data of the conterminous United States, Alaska, Hawaii, territorial islands, Mexico and Canada.  3DEP data are updated continually as new data become available. Seamless 3DEP data are derived from diverse source data that are processed to a common coordinate system and unit of vertical measure. These data are distributed in geographic coordinates in units of decimal degrees, and in conformance with the North American Datum of 1983 (NAD 83). All elevation values are in meters and, over the conterminous United States, are referenced to the North American Vertical Datum of 1988 (NAVD 88). The vertical reference will vary in other areas. Seamless 3DEP data are available nationally (except for Alaska) at resolutions of 1 arc-second (approximately 30 meters) and 1/3 arc-second (approximately 10 meters). In most of Alaska, only lower resolution source data are available. As a result, most seamless 3DEP data for Alaska are at 2 arc-second (approximately 60 meters) grid spacing. Part of Alaska is available at the 1 and 1/3 arc-second resolutions from interferometric synthetic aperture radar (ifsar) collections starting in 2010.  Plans are in place for collection of statewide ifsar in Alaska. All 3DEP products are public domain.',\n",
       " 'processingUrl': 'processingUrl',\n",
       " 'modificationInfo': '2021-12-01'}"
      ]
     },
     "execution_count": 9,
     "metadata": {},
     "output_type": "execute_result"
    }
   ],
   "source": [
    "paras = {\n",
    "         'datasets':'National Elevation Dataset (NED) 1/3 arc-second',\n",
    "         'polyCode': '01010002',\n",
    "         'polyType': 'huc8'\n",
    "        }\n",
    "\n",
    "U.find_tiles(**paras)['items'][0]"
   ]
  }
 ],
 "metadata": {
  "kernelspec": {
   "display_name": "Python 3 (ipykernel)",
   "language": "python",
   "name": "python3"
  },
  "language_info": {
   "codemirror_mode": {
    "name": "ipython",
    "version": 3
   },
   "file_extension": ".py",
   "mimetype": "text/x-python",
   "name": "python",
   "nbconvert_exporter": "python",
   "pygments_lexer": "ipython3",
   "version": "3.10.6"
  }
 },
 "nbformat": 4,
 "nbformat_minor": 5
}
