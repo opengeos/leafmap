{
 "cells": [
  {
   "attachments": {},
   "cell_type": "markdown",
   "metadata": {},
   "source": [
    "[![Open In Studio Lab](https://studiolab.sagemaker.aws/studiolab.svg)](https://studiolab.sagemaker.aws/import/github/giswqs/leafmap/blob/master/examples/notebooks/65_sagemaker.ipynb)\n",
    "[![image](https://jupyterlite.rtfd.io/en/latest/_static/badge.svg)](https://demo.leafmap.org/lab/index.html?path=notebooks/65_sagemaker.ipynb)\n",
    "[![image](https://colab.research.google.com/assets/colab-badge.svg)](https://githubtocolab.com/giswqs/leafmap/blob/master/examples/notebooks/65_sagemaker.ipynb)\n",
    "[![image](https://mybinder.org/badge_logo.svg)](https://gishub.org/leafmap-binder)"
   ]
  },
  {
   "attachments": {},
   "cell_type": "markdown",
   "id": "061e5bc5",
   "metadata": {},
   "source": [
    "## Install packages\n",
    "Uncomment the following code blocks to install GDAL, leafmap, and localtileserver on SageMaker Studio Lab."
   ]
  },
  {
   "cell_type": "code",
   "execution_count": null,
   "metadata": {},
   "outputs": [],
   "source": [
    "# %pip install --find-links=https://girder.github.io/large_image_wheels --no-cache GDAL"
   ]
  },
  {
   "cell_type": "code",
   "execution_count": null,
   "metadata": {},
   "outputs": [],
   "source": [
    "# %pip -U install leafmap localtileserver matplotlib"
   ]
  },
  {
   "attachments": {},
   "cell_type": "markdown",
   "metadata": {},
   "source": [
    "Restart the kernel after installing the packages."
   ]
  },
  {
   "attachments": {},
   "cell_type": "markdown",
   "id": "4be49d95",
   "metadata": {},
   "source": [
    "## Import libraries\n",
    "\n",
    "ipyleaflet currently does not work on SageMAker Studio Lab. See this [issue](https://github.com/jupyter-widgets/ipyleaflet/issues/1034). We can use the folium plotting backend instead."
   ]
  },
  {
   "cell_type": "code",
   "execution_count": null,
   "metadata": {},
   "outputs": [],
   "source": [
    "import leafmap.foliumap as leafmap"
   ]
  },
  {
   "attachments": {},
   "cell_type": "markdown",
   "id": "1d888db5",
   "metadata": {},
   "source": [
    "## Visualize local raster data"
   ]
  },
  {
   "attachments": {},
   "cell_type": "markdown",
   "id": "d9924665",
   "metadata": {},
   "source": [
    "Download a sample raster dataset. "
   ]
  },
  {
   "cell_type": "code",
   "execution_count": null,
   "id": "165b3be0",
   "metadata": {},
   "outputs": [],
   "source": [
    "url = 'https://github.com/giswqs/data/raw/main/raster/srtm90.tif'\n",
    "leafmap.download_file(url, 'dem.tif')"
   ]
  },
  {
   "cell_type": "markdown",
   "metadata": {},
   "source": [
    "Create an interactive map."
   ]
  },
  {
   "cell_type": "code",
   "execution_count": null,
   "metadata": {},
   "outputs": [],
   "source": [
    "m = leafmap.Map()\n",
    "m.add_raster('dem.tif', palette='terrain', layer_name='Local Raster')\n",
    "m"
   ]
  },
  {
   "attachments": {},
   "cell_type": "markdown",
   "id": "a45c268b",
   "metadata": {},
   "source": [
    "## Visualize Cloud Optimized GeoTIFF (COG)"
   ]
  },
  {
   "cell_type": "code",
   "execution_count": null,
   "id": "113f5b61",
   "metadata": {},
   "outputs": [],
   "source": [
    "m = leafmap.Map()\n",
    "url = 'https://opendata.digitalglobe.com/events/california-fire-2020/pre-event/2018-02-16/pine-gulch-fire20/1030010076004E00.tif'\n",
    "m.add_cog_layer(url, name=\"COG\")\n",
    "m"
   ]
  },
  {
   "attachments": {},
   "cell_type": "markdown",
   "id": "bf854a63",
   "metadata": {},
   "source": [
    "## Visualize SpatioTemporal Asset Catalog (STAC) Items"
   ]
  },
  {
   "cell_type": "code",
   "execution_count": null,
   "id": "6c9bb373",
   "metadata": {},
   "outputs": [],
   "source": [
    "m = leafmap.Map()\n",
    "url = 'https://canada-spot-ortho.s3.amazonaws.com/canada_spot_orthoimages/canada_spot5_orthoimages/S5_2007/S5_11055_6057_20070622/S5_11055_6057_20070622.json'\n",
    "m.add_stac_layer(url, bands=['pan'], name='Panchromatic')\n",
    "m.add_stac_layer(url, bands=['B3', 'B2', 'B1'], name='False color')\n",
    "m"
   ]
  }
 ],
 "metadata": {
  "kernelspec": {
   "display_name": "geo",
   "language": "python",
   "name": "python3"
  },
  "language_info": {
   "codemirror_mode": {
    "name": "ipython",
    "version": 3
   },
   "file_extension": ".py",
   "mimetype": "text/x-python",
   "name": "python",
   "nbconvert_exporter": "python",
   "pygments_lexer": "ipython3",
   "version": "3.10.8"
  },
  "vscode": {
   "interpreter": {
    "hash": "31f05ea183a4718249d13ada7f166c6bdba1d00716247af5c11c23af8d5923f1"
   }
  }
 },
 "nbformat": 4,
 "nbformat_minor": 5
}
